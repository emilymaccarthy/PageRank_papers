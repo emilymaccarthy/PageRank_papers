{
 "cells": [
  {
   "attachments": {},
   "cell_type": "markdown",
   "metadata": {},
   "source": [
    "# Imports"
   ]
  },
  {
   "cell_type": "code",
   "execution_count": null,
   "metadata": {},
   "outputs": [],
   "source": [
    "import csv \n",
    "from matricesRalas_ve import *\n",
    "import matplotlib.pyplot as plt"
   ]
  },
  {
   "cell_type": "markdown",
   "metadata": {},
   "source": [
    "### Funciones principales"
   ]
  },
  {
   "cell_type": "markdown",
   "metadata": {},
   "source": [
    "- Build graph(rangex:int, yvalues:List)\n",
    "\n",
    "- Generar W(citas:csvfile)\n",
    "\n",
    "- Generar D(W:MatrizRala)\n",
    "\n",
    "- Generar citas(papers:csvfile)\n",
    "\n",
    "- Convergencia(d:int,W:MatrizRala,D:MatrizRala)"
   ]
  },
  {
   "cell_type": "code",
   "execution_count": null,
   "metadata": {},
   "outputs": [],
   "source": [
    "def build_graph(rangex:int, y_axis):\n",
    "    # Graficar la diferencia absoluta vs. t\n",
    "    plt.figure()\n",
    "    plt.plot(range(rangex), y_axis, label='Diferencia Absoluta')\n",
    "    plt.xlabel('Iteraciones (t)')\n",
    "    plt.ylabel('Diferencia Absoluta')\n",
    "    plt.title('Convergencia del Método Iterativo')\n",
    "    plt.legend()\n",
    "    plt.grid(True)\n",
    "    plt.show() "
   ]
  },
  {
   "cell_type": "code",
   "execution_count": null,
   "metadata": {},
   "outputs": [],
   "source": [
    "def getW(paperPath:str,citasPath:str):\n",
    "        #tengo que tener agarrar la primer columna entera de papers csv \n",
    "        #cada posicion me da el nuumero del paper = paper + 1\n",
    "        #ahora tengo que linkear cada con citas csv para crear la matriz\n",
    "        #pj cita a pi id1 cita a id2 => W{id2,id1} =  1\n",
    "        #1. crear matriz rala con dimension numero max de citas.csv m y n el mismo numero\n",
    "        #2. recorrer citas csv por cada row ponerle set item (id2,id1) v=1\n",
    "        \n",
    "        #despues seria sobre len(ids)\n",
    "    N = 0 \n",
    "    with open(paperPath,newline='', encoding='utf-8') as csvfile:\n",
    "        reader = csv.reader(csvfile)\n",
    "        next(reader)\n",
    "              \n",
    "        N = sum(1 for row in reader)\n",
    "        csvfile.close()\n",
    "\n",
    "\n",
    "    print(f\"N: = {N}\")\n",
    "    W = MatrizRala(N,N)\n",
    "\n",
    "    with open(citasPath, newline='') as csvfile:\n",
    "        reader = csv.reader(csvfile)\n",
    "        next(reader) #skipping the header\n",
    "            # print(\"HOLA\")\n",
    "        for row in reader:\n",
    "                # print(row)\n",
    "                # print(\"1\")\n",
    "                #ai existe el 0\n",
    "            to_ = int(row[1])\n",
    "            from_ = int(row[0])\n",
    "                #print(f\" from_ = {from_}, to_ = {to_}\")\n",
    "                # pass\n",
    "            W[to_,from_] = 1\n",
    "        csvfile.close()\n",
    "\n",
    "                \n",
    "    return W\n",
    "\n",
    "            "
   ]
  },
  {
   "cell_type": "code",
   "execution_count": null,
   "metadata": {},
   "outputs": [],
   "source": [
    "def getD(self):\n",
    "    resultado = MatrizRala(self.shape[0],self.shape[1])\n",
    "\n",
    "    for i in self.filas:\n",
    "        fila = self.filas[i]\n",
    "        if len(fila) != 0:\n",
    "            resultado[i,i] = 1/len(fila)\n",
    "        else:\n",
    "            resultado[i,i] = 0\n",
    "            \n",
    "    return resultado"
   ]
  },
  {
   "cell_type": "code",
   "execution_count": null,
   "metadata": {},
   "outputs": [],
   "source": [
    "#ids de papers \n",
    "def generarIDs(paper):\n",
    "    ids = []\n",
    "    nombres = []\n",
    "    \n",
    "    with open(paper, newline='',encoding='utf-8') as csvfile:\n",
    "        reader = csv.reader(csvfile)\n",
    "        next(reader)\n",
    "        for row in reader:\n",
    "            # ids.append(row[0])\n",
    "            nombres.append(row[1])\n",
    "            # cada posicion de ids nos dice la citacion que vamos a hacer en W\n",
    "    \n",
    "    return nombres"
   ]
  },
  {
   "cell_type": "code",
   "execution_count": null,
   "metadata": {},
   "outputs": [],
   "source": [
    "def mul_con_vec_col(A,v):\n",
    "    resultado = MatrizRala(A.shape[0],1)\n",
    "    for i in A.filas:\n",
    "        res = 0\n",
    "        fila = A.filas[i]\n",
    "        nodo = fila.raiz\n",
    "        while nodo is not None:\n",
    "            res += nodo.valor[1] * v[i,0]\n",
    "            nodo = nodo.siguiente\n",
    "            \n",
    "        resultado[i,0] = res\n",
    "        \n",
    "    return resultado"
   ]
  },
  {
   "cell_type": "code",
   "execution_count": null,
   "metadata": {},
   "outputs": [],
   "source": [
    "def convergencia(d,W,D):\n",
    "    \n",
    "    epsilon = 0.00000000000001\n",
    "    \n",
    "    N = W.shape[0]\n",
    "    \n",
    "    #distribucion equiprobable \n",
    "    p_t = MatrizRala.getVectorOne(N) * (1/ N)\n",
    "        \n",
    "    #matriz de unos\n",
    "    unos = MatrizRala.getVectorOne(N)\n",
    "    \n",
    "    diff_abs = []\n",
    "    contador = 0    \n",
    "    diff = 1\n",
    "    parte_div = (1 - d) / N\n",
    "    WD = W.mul_daig(D)\n",
    "    dWD = d * WD\n",
    "\n",
    "    while diff > epsilon:\n",
    "        \n",
    "        #caculos intermedios\n",
    "        dWDP_t = dWD.mul_con_vec_col(p_t)\n",
    "        p_t_mas1 = parte_div * unos + dWDP_t\n",
    "        p_t = p_t_mas1.__copy__()\n",
    "        \n",
    "        #calcular la diferencia con p* osea seria entre p* o p_t\n",
    "        diff = MatrizRala.diffVectors(p_t_mas1,p_t) \n",
    "        diff_abs.append(diff)\n",
    "        contador +=1 \n",
    "        print(diff)\n",
    "   \n",
    "    \n",
    "    return contador, diff_abs, p_t_mas1\n",
    "    "
   ]
  },
  {
   "cell_type": "markdown",
   "metadata": {},
   "source": [
    "Generar las matrices $\\mathbf{W}$ y $\\mathbf{D}$ a partir de la tabla citas.csv. Utilizar matrices ralas."
   ]
  },
  {
   "cell_type": "code",
   "execution_count": null,
   "metadata": {},
   "outputs": [],
   "source": [
    "#TIEMPO: \n",
    "papers = 'papers/papers.csv'\n",
    "citas = 'papers/citas.csv'\n",
    "#data acortada \n",
    "citas2 = 'papers/citas2.csv'\n",
    "\n",
    "W,W_t = MatrizRala.getW(papers,citas)\n",
    "\n"
   ]
  },
  {
   "cell_type": "code",
   "execution_count": null,
   "metadata": {},
   "outputs": [],
   "source": [
    "# TIEMPO: \n",
    "D:MatrizRala = W_t.getD()\n",
    "# print(W)\n"
   ]
  },
  {
   "cell_type": "code",
   "execution_count": null,
   "metadata": {},
   "outputs": [],
   "source": [
    "print(len(D.filas.keys()))\n",
    "\n",
    "#el indice va a ser uno menos del que busquemos \n",
    "i = 230099\n",
    "fila_i = D.filas[i]\n",
    "print(fila_i)\n",
    "len(D.filas.keys())\n",
    "i in D.filas.keys()\n",
    "print(W.filas[i])"
   ]
  },
  {
   "cell_type": "markdown",
   "metadata": {},
   "source": [
    "Debido al tamaño del conjunto de datos, no podemos resolver explıcitamente usando Gauss-Jordan el sistema. Utilizando d = 0,85 y asumiendo una distribucion equiprobable para el tiempo 1, computar pt hasta que la serie converja. Es decir, que la diferencia $∥p_{t+1} − p_{t}∥$ sea menor a cierto $ϵ > 0$."
   ]
  },
  {
   "attachments": {},
   "cell_type": "markdown",
   "metadata": {},
   "source": [
    "## Guardamos W y D de forma que no sea necesario correr el codigo nuevamente"
   ]
  },
  {
   "cell_type": "code",
   "execution_count": null,
   "metadata": {},
   "outputs": [],
   "source": [
    "import pickle\n",
    "\n",
    "GUARDAR = False\n",
    "\n",
    "if(GUARDAR):\n",
    "    # Serializar el objeto\n",
    "    with open('mat_W.pkl', 'wb') as archivo:\n",
    "        pickle.dump(W, archivo)\n",
    "        archivo.close()\n",
    "\n",
    "    # Serializar el objeto\n",
    "    with open('mat_D.pkl', 'wb') as archivo:\n",
    "        pickle.dump(D, archivo)\n",
    "        archivo.close()"
   ]
  },
  {
   "cell_type": "code",
   "execution_count": null,
   "metadata": {},
   "outputs": [],
   "source": [
    "import pickle\n",
    "\n",
    "RECUPERAR = False\n",
    "\n",
    "if RECUPERAR:\n",
    "\n",
    "    # Deserializar el objeto\n",
    "    W: MatrizRala = None\n",
    "    D: MatrizRala = None\n",
    "    with open('mat_W.pkl', 'rb') as archivo:\n",
    "        W = pickle.load(archivo)\n",
    "        archivo.close()\n",
    "\n",
    "    with open('mat_D.pkl', 'rb') as archivo:\n",
    "        D = pickle.load(archivo)\n",
    "        archivo.close()\n",
    "\n"
   ]
  },
  {
   "cell_type": "code",
   "execution_count": null,
   "metadata": {},
   "outputs": [],
   "source": [
    "d = 0.85\n",
    "t, diffs,p_sol = convergencia(d,W,D)\n",
    "\n"
   ]
  },
  {
   "cell_type": "code",
   "execution_count": null,
   "metadata": {},
   "outputs": [],
   "source": [
    "#print(p_sol)\n",
    "print(p_sol.sum())"
   ]
  },
  {
   "cell_type": "markdown",
   "metadata": {},
   "source": [
    "Armar la lista de los 10 papers con mayor impacto. Comparar los resultados con aquellos obtenidos\n",
    "utilizando unicamente la cantidad de citas. ¿Que conclusiones se pueden sacar?, ¿Que algoritmo parece\n",
    "dar resultados mas satisfactorios?"
   ]
  },
  {
   "cell_type": "code",
   "execution_count": null,
   "metadata": {},
   "outputs": [],
   "source": [
    "# los 10 papers con mas influencia seria los que en el vecto r de probabilidades tienen la probabilidad mas alta ?\n",
    "# sacar la posicion del vector de probabilidades \n",
    "# ir a la listaa de id con la posicion sacar el id y encontrarlo en el csv \n",
    "# sino directmaente ir al csv y buscar la posicion esa y sacar el nombre o la fila completa y guardar eso tipo saber cual es el numero 1 2 3 4 ... 10\n",
    "# recorrer W y fijarte cual es la que tiene mas cantidad de citas , sacar la posicion de esas (modificar la funcion que crea D)\n",
    "# papers = 'papers/papers.csv'\n",
    "# TOP_PAPAERS = 10\n",
    "# IDS,nombres = generarIDs(papers)\n",
    "# print(nombres[:TOP_PAPAERS+1])\n",
    "\n",
    "####\n",
    "    \n",
    "p_solNumpy = p_sol.toNumpy()\n",
    "\n",
    "orden_desc = np.argsort(p_solNumpy, axis=0)[::-1]\n",
    "p_solNumpy_sin_indices = np.sort(p_solNumpy, axis=0)[::-1]\n",
    "print(p_solNumpy_sin_indices[:10])\n",
    "\n",
    "indices_filas = np.arange(p_solNumpy.shape[0]).reshape((-1, 1))\n",
    "p_solNumpy_con_indices = np.hstack((p_solNumpy, indices_filas))\n",
    "#\n",
    "# ordenar de mayor a menor\n",
    "argSort = np.argsort(p_solNumpy_con_indices, axis=0)[::-1]# ordena de mayor a menor\n",
    "p_solNumpy_arreglado = np.sort(p_solNumpy_con_indices, axis=0)[::-1]\n",
    "\n",
    "\n",
    "print(p_solNumpy_arreglado[:10])\n",
    "# print(type(p_solNumpy))\n",
    "\n",
    "# print(np.sum(p_solNumpy))\n",
    "\n",
    "#print(argSort)\n",
    "top10 = p_solNumpy_arreglado[:10]\n",
    "\n",
    "# vectorRala = MatrizRala.fromNumpy(vectorNumpy)\n",
    "# print(vectorRala)\n"
   ]
  },
  {
   "cell_type": "code",
   "execution_count": null,
   "metadata": {},
   "outputs": [],
   "source": [
    "list10 = []\n",
    "nombres = generarIDs(papers)\n",
    "for i in range(len(top10)):\n",
    "    id = int(top10[i][1])\n",
    "    print(id)\n",
    "    list10.append(nombres[id])\n",
    "\n",
    "print(list10)"
   ]
  },
  {
   "cell_type": "code",
   "execution_count": null,
   "metadata": {},
   "outputs": [],
   "source": [
    "# argSort\n",
    "\n",
    "with open(papers,newline='',encoding='utf-8') as csvfile:\n",
    "    reader = csv.reader(csvfile)\n",
    "    next(reader)\n",
    "    \n",
    "    for row in reader:\n",
    "        for i in range(len(top10)):\n",
    "          \n",
    "            if top10[i][1] == row[0]:\n",
    "                list10.append(row[1])\n",
    "                break  \n",
    "        \n",
    "    csvfile.close()"
   ]
  },
  {
   "cell_type": "code",
   "execution_count": null,
   "metadata": {},
   "outputs": [],
   "source": [
    "print(list10)"
   ]
  }
 ],
 "metadata": {
  "kernelspec": {
   "display_name": "base",
   "language": "python",
   "name": "python3"
  },
  "language_info": {
   "codemirror_mode": {
    "name": "ipython",
    "version": 3
   },
   "file_extension": ".py",
   "mimetype": "text/x-python",
   "name": "python",
   "nbconvert_exporter": "python",
   "pygments_lexer": "ipython3",
   "version": "3.11.5"
  },
  "vscode": {
   "interpreter": {
    "hash": "588a077454552c0b608c7a75f739e0012bc0a6317cbb2228f1831255df17ce82"
   }
  }
 },
 "nbformat": 4,
 "nbformat_minor": 2
}
