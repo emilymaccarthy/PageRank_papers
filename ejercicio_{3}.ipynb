{
 "cells": [
  {
   "attachments": {},
   "cell_type": "markdown",
   "metadata": {},
   "source": [
    "# Imports"
   ]
  },
  {
   "cell_type": "code",
   "execution_count": 13,
   "metadata": {},
   "outputs": [],
   "source": [
    "import numpy as np\n",
    "import matplotlib.pyplot as plt\n",
    "from matricesRalas import *"
   ]
  },
  {
   "attachments": {},
   "cell_type": "markdown",
   "metadata": {},
   "source": [
    "### Datos del Grafo"
   ]
  },
  {
   "cell_type": "code",
   "execution_count": 14,
   "metadata": {},
   "outputs": [],
   "source": [
    "def fillMatrixEJ3():\n",
    "    mat = MatrizRala(11,11)\n",
    "    # CITAS A-0\n",
    "    mat[0,2] = 1\n",
    "    mat[0,3] = 1\n",
    "    mat[0,4] = 1\n",
    "\n",
    "    # CITAS B-1\n",
    "    mat[1,0] = 1\n",
    "\n",
    "    # CITAS C-2\n",
    "\n",
    "    # CITAS D-3\n",
    "\n",
    "    # CITAS E-4\n",
    "    mat[4,10] = 1\n",
    "\n",
    "    # CITAS F-5\n",
    "    mat[5,0] = 1\n",
    "    mat[5,6] = 1\n",
    "\n",
    "    # CITAS G-6\n",
    "    mat[6,7] = 1\n",
    "    mat[6,8] = 1\n",
    "\n",
    "    # CITAS H-7\n",
    "    mat[7,8] = 1\n",
    "\n",
    "    # CITAS I-8\n",
    "    mat[8,5] = 1\n",
    "\n",
    "    # CITAS J-9\n",
    "    mat[9,8] = 1\n",
    " \n",
    "\n",
    "    # CITAS K-10\n",
    "\n",
    "    return mat"
   ]
  },
  {
   "attachments": {},
   "cell_type": "markdown",
   "metadata": {},
   "source": [
    "Crear las matrices $\\mathbf{W}$ y $\\mathbf{D}$ para la  utilizando la clas MatrizRala"
   ]
  },
  {
   "cell_type": "code",
   "execution_count": 15,
   "metadata": {},
   "outputs": [],
   "source": [
    "W = fillMatrixEJ3()\n",
    "D = W.getD()"
   ]
  },
  {
   "attachments": {},
   "cell_type": "markdown",
   "metadata": {},
   "source": [
    "Para expresar la ecuación como un sistema lineal $Ax = b$, primero necesitamos reorganizarla. Dado que $p^*$ es el vector de probabilidades que queremos encontrar, podemos escribir la ecuación como:\n",
    "\n",
    "$p^* = \\frac{1 - d}{N} \\mathbf{1} + d \\mathbf{W}\\mathbf{D}p^*$\n",
    "\n",
    "donde:\n",
    "- $\\mathbf{1}$ es un vector de unos de tamaño $Nx1$.\n",
    "- $\\mathbf{W}$ es la matriz que indica que paper cito al otro.\n",
    "- $\\mathbf{D}$ es la matriz diagonal que contiene la probabilidad dada que un paper sea citado en algun paper dado.\n",
    "- $d$ probabilidad aleatoria de continuar leyendo alguno de los trabajos citados \n",
    "- $N$ es la cantidad de papers\n",
    "\n",
    "Ahora, podemos reorganizar esta ecuación para obtener:\n",
    "\n",
    "$p^* - d \\mathbf{W}\\mathbf{D}p^* = \\frac{1 - d}{N} \\mathbf{1}$\n",
    "\n",
    "$p^* \\left(\\mathbf{I} - d \\mathbf{W}\\mathbf{D}\\right) = \\frac{1 - d}{N} \\mathbf{1}$\n",
    "\n",
    "\n",
    "Ahora, podemos expresar esto como un sistema lineal $Ax = b$, donde:\n",
    "- $A = I - d\\mathbf{W}\\mathbf{D}$, siendo $I$ la matriz identidad.\n",
    "- $x = p^*$.\n",
    "- $b = \\frac{1 - d}{N} \\mathbf{1}$.\n",
    "\n",
    "Esta es la forma en que podemos expresar la ecuación como un sistema lineal. Ahora, podemos utilizar métodos numéricos para resolver este sistema y encontrar el vector de probabilidades $p^*$.\n"
   ]
  },
  {
   "cell_type": "markdown",
   "metadata": {},
   "source": [
    "Si el sistema converge, encontraremos un vector de probabilidades p∗ con matrices ralas. Expresar la ecuacion como un sistema lineal (Ax = b) y resolver para p∗ utilizando d = 0, 85"
   ]
  },
  {
   "cell_type": "code",
   "execution_count": 16,
   "metadata": {},
   "outputs": [
    {
     "name": "stdout",
     "output_type": "stream",
     "text": [
      "MatrizRala([ \n",
      "    [ 1.0  0.0  0.0  0.0  0.0  0.0  0.0  0.0  0.0  0.0  0.0  0.02522727272727273  ]\n",
      "    [ 0.0  1.0  0.0  0.0  0.0  0.0  0.0  0.0  0.0  0.0  0.0  0.020784090909090912  ]\n",
      "    [ 0  0  1  0  0  0  0  0  0  0  0  0.01363636363636364  ]\n",
      "    [ 0  0  0  1  0  0  0  0  0  0  0  0.01363636363636364  ]\n",
      "    [ 0  0  0  0  1  0  0  0  0  0  0  0.01363636363636364  ]\n",
      "    [ 0.0  0.0  0.0  0.0  0.0  0.7159671875  0.0  0.0  0.0  0.0  0.0  0.04061903409090909  ]\n",
      "    [ 0.0  0.0  0.0  0.0  0.0  0.0  0.7159671875  0.0  0.0  0.0  0.0  0.06056072230113636  ]\n",
      "    [ 0.0  0.0  0.0  0.0  0.0  0.0  0.0  0.7159671875  0.0  0.0  0.0  0.03273552556818182  ]\n",
      "    [ 0.0  0.0  0.0  0.0  0.0  0.0  0.0  0.0  0.7159671875  0.0  0.0  0.02702627840909091  ]\n",
      "    [ 0.0  0.0  0.0  0.0  0.0  0.0  0.0  0.0  0.0  0.7159671875  0.0  0.03273552556818182  ]\n",
      "    [ 0  0  0  0  0  0  0  0  0  0  1  0.01363636363636364  ]\n",
      "])\n",
      "MatrizRala([ \n",
      "    [ 1.0  0.0  0.0  0.0  0.0  0.0  0.0  0.0  0.0  0.0  0.0  0.02522727272727273  ]\n",
      "    [ 0.0  1.0  0.0  0.0  0.0  0.0  0.0  0.0  0.0  0.0  0.0  0.020784090909090912  ]\n",
      "    [ 0  0  1  0  0  0  0  0  0  0  0  0.01363636363636364  ]\n",
      "    [ 0  0  0  1  0  0  0  0  0  0  0  0.01363636363636364  ]\n",
      "    [ 0  0  0  0  1  0  0  0  0  0  0  0.01363636363636364  ]\n",
      "    [ 0.0  0.0  0.0  0.0  0.0  0.7159671875  0.0  0.0  0.0  0.0  0.0  0.04061903409090909  ]\n",
      "    [ 0.0  0.0  0.0  0.0  0.0  0.0  0.7159671875  0.0  0.0  0.0  0.0  0.06056072230113636  ]\n",
      "    [ 0.0  0.0  0.0  0.0  0.0  0.0  0.0  0.7159671875  0.0  0.0  0.0  0.03273552556818182  ]\n",
      "    [ 0.0  0.0  0.0  0.0  0.0  0.0  0.0  0.0  0.7159671875  0.0  0.0  0.02702627840909091  ]\n",
      "    [ 0.0  0.0  0.0  0.0  0.0  0.0  0.0  0.0  0.0  0.7159671875  0.0  0.03273552556818182  ]\n",
      "    [ 0  0  0  0  0  0  0  0  0  0  1  0.01363636363636364  ]\n",
      "])\n"
     ]
    }
   ],
   "source": [
    "d = 0.85\n",
    "N = W.shape[0]\n",
    "I = MatrizRala.One(N)\n",
    "\n",
    "A = I -  d * W @ D #(d*(np.dot(W,D)))\n",
    "    \n",
    "vector_1 = MatrizRala.getVectorOne(N)\n",
    "\n",
    "b = MatrizRala.getVectorOne(N) * ((1-d)/N)\n",
    "\n",
    "# Metodo gauss\n",
    "p_sol = GaussJordan(A,b)\n",
    "\n",
    "\n",
    "# Metodo Inversa\n",
    "invA = A.inversa()\n",
    "p_sol = invA @ b\n"
   ]
  },
  {
   "cell_type": "markdown",
   "metadata": {},
   "source": [
    "Comparar el resultado obtenido con el metodo iterativo utilizando una distribucion equiprobable para la probabilidad inicial. Para realizar la comparaci´on, graficar la diferencia absoluta entre $p_{t}$ y $p^*$ para valores de t hasta ver que converge."
   ]
  },
  {
   "attachments": {},
   "cell_type": "markdown",
   "metadata": {},
   "source": [
    "### Metodo Iterativo"
   ]
  },
  {
   "attachments": {},
   "cell_type": "markdown",
   "metadata": {},
   "source": [
    "$p^* = \\frac{1 - d}{N} \\mathbf{1} + d \\mathbf{W}\\mathbf{D}p^*$"
   ]
  },
  {
   "cell_type": "code",
   "execution_count": 17,
   "metadata": {},
   "outputs": [
    {
     "name": "stdout",
     "output_type": "stream",
     "text": [
      "Convergencia alcanzada en la iteración 33.\n"
     ]
    }
   ],
   "source": [
    "#calculo utilizando metodo iterativo \n",
    "\n",
    "# Vector de probabilidades inicial con distribución equiprobable\n",
    "p = MatrizRala.getVectorOne(W.shape[0]) * (1/W.shape[0])\n",
    "    \n",
    "unos = MatrizRala.getVectorOne(W.shape[0])\n",
    "    \n",
    "# Método iterativo\n",
    "tolerancia = 0.000001\n",
    "max_iteraciones = 100\n",
    "diferencias = []\n",
    "\n",
    "\n",
    "for t in range(max_iteraciones):\n",
    "    p_previo = p.__copy__()\n",
    "    parte_div = (1 - d) / N\n",
    "    WD = W @ D\n",
    "    WDP_t = WD @ p_previo\n",
    "    p = parte_div * unos + d *WDP_t\n",
    "    \n",
    "    # Calcular la diferencia absoluta entre p y p*\n",
    "    dif = MatrizRala.diffVectors(p,p_previo)\n",
    "    \n",
    "    diferencias.append(dif)\n",
    "    \n",
    "    if dif < tolerancia:\n",
    "        print(f\"Convergencia alcanzada en la iteración {t + 1}.\")\n",
    "        break\n",
    "\n",
    "\n",
    "    \n",
    "    "
   ]
  },
  {
   "cell_type": "markdown",
   "metadata": {},
   "source": [
    "Codigo Guido"
   ]
  },
  {
   "cell_type": "code",
   "execution_count": 18,
   "metadata": {},
   "outputs": [],
   "source": [
    "\n",
    "def getMatDNump(W:np.ndarray)->np.ndarray:\n",
    "    D = np.zeros_like(W)\n",
    "    for i in range(D.shape[0]):\n",
    "        if sum(W[i,:]) != 0:\n",
    "            D[i,i] = 1/sum(W[i,:])\n",
    "    return D\n",
    "\n",
    "\n",
    "    \n",
    "def nextP(P:np.ndarray,W,D,d)->np.ndarray:\n",
    "    termino_1 = 1-d / W.shape[0]\n",
    "    termino_1 = np.zeros_like(P) + 1 * termino_1\n",
    "    termino_2 = d * W @ D @ P\n",
    "    return termino_1 + termino_2\n",
    "\n",
    "def getMatD(W:MatrizRala):\n",
    "    N = W.shape[0]\n",
    "    D = MatrizRala(N,N)\n",
    "    for i in range(D.shape[0]):\n",
    "        fila_i = W.return_fila_entera(i)\n",
    "        cantCitas = fila_i.count(1)\n",
    "        if cantCitas != 0:\n",
    "            D[i,i] = cantCitas\n",
    "    return D\n",
    "\n",
    "def metodoIterativo(P,W,D,d,max_iter:int,dif:list):\n",
    "\n",
    "    # Pt+1 = (1-d)/N 1 + d * W @ D * Pt\n",
    "\n",
    "\n",
    "    M = d * W @ D\n",
    "    print(M)\n",
    "    # N = W.shape[0]\n",
    "\n",
    "    # term_1 = MatrizRala(N,1)\n",
    "    # for i in range(term_1.shape[0]):\n",
    "    #     term_1[i,0] = (1-d) / N\n",
    "    \n",
    "    # for i in range(max_iter):\n",
    "    #     print(M.shape,P.shape,flush=False)\n",
    "    #     P_next = term_1 + M @ P\n",
    "    #     vect_dif = P_next - P\n",
    "    #     dif.append(vect_dif.sum())\n",
    "    #     P = nextP\n",
    "    # return nextP\n",
    "    \n",
    "    \n"
   ]
  },
  {
   "cell_type": "code",
   "execution_count": 19,
   "metadata": {},
   "outputs": [
    {
     "name": "stdout",
     "output_type": "stream",
     "text": [
      "MatrizRala([ \n",
      "    [ 1.0  0.0  0.0  0.0  0.0  0.0  0.0  0.0  0.0  0.0  0.0  0.02522727272727273  ]\n",
      "    [ 0.0  1.0  0.0  0.0  0.0  0.0  0.0  0.0  0.0  0.0  0.0  0.020784090909090912  ]\n",
      "    [ 0  0  1  0  0  0  0  0  0  0  0  0.01363636363636364  ]\n",
      "    [ 0  0  0  1  0  0  0  0  0  0  0  0.01363636363636364  ]\n",
      "    [ 0  0  0  0  1  0  0  0  0  0  0  0.01363636363636364  ]\n",
      "    [ 0.0  0.0  0.0  0.0  0.0  0.7159671875  0.0  0.0  0.0  0.0  0.0  0.04061903409090909  ]\n",
      "    [ 0.0  0.0  0.0  0.0  0.0  0.0  0.7159671875  0.0  0.0  0.0  0.0  0.06056072230113636  ]\n",
      "    [ 0.0  0.0  0.0  0.0  0.0  0.0  0.0  0.7159671875  0.0  0.0  0.0  0.03273552556818182  ]\n",
      "    [ 0.0  0.0  0.0  0.0  0.0  0.0  0.0  0.0  0.7159671875  0.0  0.0  0.02702627840909091  ]\n",
      "    [ 0.0  0.0  0.0  0.0  0.0  0.0  0.0  0.0  0.0  0.7159671875  0.0  0.03273552556818182  ]\n",
      "    [ 0  0  0  0  0  0  0  0  0  0  1  0.01363636363636364  ]\n",
      "])\n",
      "MatrizRala([ \n",
      "    [ 1.0  0.0  0.0  0.0  0.0  0.0  0.0  0.0  0.0  0.0  0.0  0.02522727272727273  ]\n",
      "    [ 0.0  1.0  0.0  0.0  0.0  0.0  0.0  0.0  0.0  0.0  0.0  0.020784090909090912  ]\n",
      "    [ 0  0  1  0  0  0  0  0  0  0  0  0.01363636363636364  ]\n",
      "    [ 0  0  0  1  0  0  0  0  0  0  0  0.01363636363636364  ]\n",
      "    [ 0  0  0  0  1  0  0  0  0  0  0  0.01363636363636364  ]\n",
      "    [ 0.0  0.0  0.0  0.0  0.0  0.7159671875  0.0  0.0  0.0  0.0  0.0  0.04061903409090909  ]\n",
      "    [ 0.0  0.0  0.0  0.0  0.0  0.0  0.7159671875  0.0  0.0  0.0  0.0  0.06056072230113636  ]\n",
      "    [ 0.0  0.0  0.0  0.0  0.0  0.0  0.0  0.7159671875  0.0  0.0  0.0  0.03273552556818182  ]\n",
      "    [ 0.0  0.0  0.0  0.0  0.0  0.0  0.0  0.0  0.7159671875  0.0  0.0  0.02702627840909091  ]\n",
      "    [ 0.0  0.0  0.0  0.0  0.0  0.0  0.0  0.0  0.0  0.7159671875  0.0  0.03273552556818182  ]\n",
      "    [ 0  0  0  0  0  0  0  0  0  0  1  0.01363636363636364  ]\n",
      "])\n",
      "MatrizRala([ \n",
      "    [ 0.0  0.0  0.0  0.0  0.85  0.0  0.0  0.0  0.0  0.0  0.0  ]\n",
      "    [ 0.2833333333333333  0.0  0.0  0.0  0.0  0.0  0.0  0.0  0.0  0.0  0.0  ]\n",
      "    [ 0  0  0  0  0  0  0  0  0  0  0  ]\n",
      "    [ 0  0  0  0  0  0  0  0  0  0  0  ]\n",
      "    [ 0.0  0.0  0.0  0.0  0.0  0.0  0.0  0.0  0.0  0.0  0.0  ]\n",
      "    [ 0.2833333333333333  0.0  0.0  0.0  0.0  0.0  0.425  0.0  0.0  0.0  0.0  ]\n",
      "    [ 0.0  0.0  0.0  0.0  0.0  0.0  0.0  0.85  0.85  0.0  0.0  ]\n",
      "    [ 0.0  0.0  0.0  0.0  0.0  0.0  0.0  0.0  0.85  0.0  0.0  ]\n",
      "    [ 0.0  0.0  0.0  0.0  0.0  0.425  0.0  0.0  0.0  0.0  0.0  ]\n",
      "    [ 0.0  0.0  0.0  0.0  0.0  0.0  0.0  0.0  0.85  0.0  0.0  ]\n",
      "    [ 0  0  0  0  0  0  0  0  0  0  0  ]\n",
      "])\n",
      "DIFERENCIAS: \n",
      "\n"
     ]
    },
    {
     "ename": "TypeError",
     "evalue": "unsupported operand type(s) for -: 'NoneType' and 'MatrizRala'",
     "output_type": "error",
     "traceback": [
      "\u001b[0;31m---------------------------------------------------------------------------\u001b[0m",
      "\u001b[0;31mTypeError\u001b[0m                                 Traceback (most recent call last)",
      "Cell \u001b[0;32mIn[19], line 58\u001b[0m\n\u001b[1;32m     54\u001b[0m     \u001b[39mprint\u001b[39m(\u001b[39mint\u001b[39m(P_iterativo\u001b[39m.\u001b[39msum() \u001b[39m-\u001b[39m x\u001b[39m.\u001b[39msum()))\n\u001b[1;32m     56\u001b[0m \u001b[39mif\u001b[39;00m \u001b[39m__name__\u001b[39m \u001b[39m==\u001b[39m \u001b[39m\"\u001b[39m\u001b[39m__main__\u001b[39m\u001b[39m\"\u001b[39m:\n\u001b[1;32m     57\u001b[0m     \u001b[39m# mainNumpy()\u001b[39;00m\n\u001b[0;32m---> 58\u001b[0m     main()\n",
      "Cell \u001b[0;32mIn[19], line 52\u001b[0m, in \u001b[0;36mmain\u001b[0;34m()\u001b[0m\n\u001b[1;32m     48\u001b[0m \u001b[39m# print(\"ITERATIVO: \\n\")\u001b[39;00m\n\u001b[1;32m     49\u001b[0m \u001b[39m# print(P_iterativo)\u001b[39;00m\n\u001b[1;32m     51\u001b[0m \u001b[39mprint\u001b[39m(\u001b[39m\"\u001b[39m\u001b[39mDIFERENCIAS: \u001b[39m\u001b[39m\\n\u001b[39;00m\u001b[39m\"\u001b[39m)\n\u001b[0;32m---> 52\u001b[0m \u001b[39mprint\u001b[39m(P_iterativo \u001b[39m-\u001b[39m x)\n\u001b[1;32m     53\u001b[0m \u001b[39mprint\u001b[39m(\u001b[39m\"\u001b[39m\u001b[39mSUMA DIFERENCIAS: \u001b[39m\u001b[39m\\n\u001b[39;00m\u001b[39m\"\u001b[39m)\n\u001b[1;32m     54\u001b[0m \u001b[39mprint\u001b[39m(\u001b[39mint\u001b[39m(P_iterativo\u001b[39m.\u001b[39msum() \u001b[39m-\u001b[39m x\u001b[39m.\u001b[39msum()))\n",
      "\u001b[0;31mTypeError\u001b[0m: unsupported operand type(s) for -: 'NoneType' and 'MatrizRala'"
     ]
    }
   ],
   "source": [
    "def main():\n",
    "    N = 11\n",
    "    d = 0.85\n",
    "    W = fillMatrixEJ3()\n",
    "    D = W.getD()\n",
    "\n",
    "    # print(W,D)\n",
    "\n",
    "    # MARCO TEORICO\n",
    "\n",
    "    # P* = (1-d)/N 1 + d * W @ D * P*\n",
    "    # P* - dWDP* = (1-d)/N * 1\n",
    "    # (1 - dWD)P* = (1-d)/N * 1\n",
    "    #     A     x =  b\n",
    "    \n",
    "\n",
    "    # METODO DE GAUSS JORDAN\n",
    "    \n",
    "    # A\n",
    "    oneMat = MatrizRala.One(N)\n",
    "    dWD = d * W @ D\n",
    "    A = oneMat - dWD\n",
    "    # print(A)\n",
    "\n",
    "    # b\n",
    "    b = MatrizRala(N,1)\n",
    "    for i in range(N):\n",
    "        b[i,0] = 1\n",
    "    b = ((1-d)/N) * b\n",
    "\n",
    "    x = GaussJordan(A,b)\n",
    "    # print(\"GAUSS JORDAN: \\n\")\n",
    "    # print(x)\n",
    "\n",
    "    # METODO ITERATIVO\n",
    "\n",
    "    # P = (1-d)/N 1 + d * W @ D * P\n",
    "    P = MatrizRala(N,1)\n",
    "\n",
    "    for i in range(N):\n",
    "        P[i,0] = 1/N    \n",
    "\n",
    "    \n",
    "    \n",
    "    max_iteraciones = 20\n",
    "    diferencias = []    \n",
    "    P_iterativo = metodoIterativo(P,W,D,d,max_iteraciones,diferencias)\n",
    "    # print(\"ITERATIVO: \\n\")\n",
    "    # print(P_iterativo)\n",
    "\n",
    "    print(\"DIFERENCIAS: \\n\")\n",
    "    print(P_iterativo - x)\n",
    "    print(\"SUMA DIFERENCIAS: \\n\")\n",
    "    print(int(P_iterativo.sum() - x.sum()))\n",
    "\n",
    "if __name__ == \"__main__\":\n",
    "    # mainNumpy()\n",
    "    main()"
   ]
  },
  {
   "attachments": {},
   "cell_type": "markdown",
   "metadata": {},
   "source": [
    "# Tests Rapidos"
   ]
  },
  {
   "cell_type": "code",
   "execution_count": null,
   "metadata": {},
   "outputs": [
    {
     "name": "stdout",
     "output_type": "stream",
     "text": [
      "MatrizRala([ \n",
      "    [ 30  36  42  ]\n",
      "    [ 66  81  96  ]\n",
      "    [ 102  126  150  ]\n",
      "])\n"
     ]
    }
   ],
   "source": [
    "import numpy as np\n",
    "import matplotlib.pyplot as plt\n",
    "from matricesRalas import *\n",
    "\n",
    "A = MatrizRala(3,3)\n",
    "B = MatrizRala(3,3)\n",
    "res = MatrizRala(3,3)\n",
    "\n",
    "A[0,0] = 1\n",
    "A[0,1] = 2\n",
    "A[0,2] = 3  \n",
    "A[1,0] = 4\n",
    "A[1,1] = 5\n",
    "A[1,2] = 6\n",
    "A[2,0] = 7\n",
    "A[2,1] = 8\n",
    "A[2,2] = 9\n",
    "\n",
    "B[0,0] = 1\n",
    "B[0,1] = 2\n",
    "B[0,2] = 3\n",
    "B[1,0] = 4\n",
    "B[1,1] = 5\n",
    "B[1,2] = 6\n",
    "B[2,0] = 7\n",
    "B[2,1] = 8\n",
    "B[2,2] = 9\n",
    "\n",
    "C = A @ B\n",
    "\n",
    "print(C)\n",
    "\n",
    "res[0,0] = 30\n",
    "res[0,1] = 36\n",
    "res[0,2] = 42\n",
    "res[1,0] = 66\n",
    "res[1,1] = 81\n",
    "res[1,2] = 96\n",
    "res[2,0] = 102\n",
    "res[2,1] = 126\n",
    "res[2,2] = 150\n",
    "\n",
    "\n"
   ]
  },
  {
   "cell_type": "code",
   "execution_count": null,
   "metadata": {},
   "outputs": [],
   "source": [
    "import numpy as np\n",
    "import matplotlib.pyplot as plt\n",
    "from matricesRalas import *\n",
    "\n",
    "\n",
    "\n",
    "def build_graph(rangex:int, y_axis:list):\n",
    "    \"\"\"Toma un valor y una lista y genera un grafico\n",
    "\n",
    "    Args:\n",
    "        rangex (int): Canitdad de iteraciones\n",
    "        y_axis (list): Un vector que lleva las diferencias entre p y pt\n",
    "    \"\"\"\n",
    "    # Graficar la diferencia absoluta vs. t\n",
    "    plt.figure()\n",
    "    plt.plot(range(rangex), y_axis, label='Diferencia Absoluta')\n",
    "    plt.xlabel('Iteraciones (t)')\n",
    "    plt.ylabel('Diferencia Absoluta')\n",
    "    plt.title('Convergencia del Método Iterativo')\n",
    "    plt.legend()\n",
    "    plt.grid(True)\n",
    "    plt.show() \n",
    "    \n"
   ]
  }
 ],
 "metadata": {
  "kernelspec": {
   "display_name": "base",
   "language": "python",
   "name": "python3"
  },
  "language_info": {
   "codemirror_mode": {
    "name": "ipython",
    "version": 3
   },
   "file_extension": ".py",
   "mimetype": "text/x-python",
   "name": "python",
   "nbconvert_exporter": "python",
   "pygments_lexer": "ipython3",
   "version": "3.11.5"
  },
  "vscode": {
   "interpreter": {
    "hash": "588a077454552c0b608c7a75f739e0012bc0a6317cbb2228f1831255df17ce82"
   }
  }
 },
 "nbformat": 4,
 "nbformat_minor": 2
}
