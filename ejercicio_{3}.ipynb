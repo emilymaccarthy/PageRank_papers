{
 "cells": [
  {
   "cell_type": "code",
   "execution_count": 2,
   "metadata": {},
   "outputs": [],
   "source": [
    "import numpy as np\n",
    "import matplotlib.pyplot as plt\n",
    "from matricesRalas import *"
   ]
  },
  {
   "cell_type": "markdown",
   "metadata": {},
   "source": [
    "### Funciones Auxiliares"
   ]
  },
  {
   "cell_type": "markdown",
   "metadata": {},
   "source": [
    "- Generar identidad(m:int)\n",
    "\n",
    "- Genara inversa(A:matrizrala)\n",
    "\n",
    "- Generar D(W:MatrizRala)\n",
    "\n",
    "- Calcular diferencia entre vectores(A:MatrizRala, B:MatrizRala)\n",
    "\n",
    "- Fill Matriz(mat:matrizRala)"
   ]
  },
  {
   "cell_type": "code",
   "execution_count": 3,
   "metadata": {},
   "outputs": [],
   "source": [
    "def fillMatrix(mat:MatrizRala):\n",
    "    # CITAS A-0\n",
    "    mat[0,2] = 1\n",
    "    mat[0,3] = 1\n",
    "    mat[0,4] = 1\n",
    "\n",
    "    # CITAS B-1\n",
    "    mat[1,0] = 1\n",
    "\n",
    "    # CITAS C-2\n",
    "\n",
    "    # CITAS D-3\n",
    "\n",
    "    # CITAS E-4\n",
    "    mat[4,10] = 1\n",
    "\n",
    "    # CITAS F-5\n",
    "    mat[5,0] = 1\n",
    "    mat[5,6] = 1\n",
    "\n",
    "    # CITAS G-6\n",
    "    mat[6,7] = 1\n",
    "    mat[6,8] = 1\n",
    "\n",
    "    # CITAS H-7\n",
    "    mat[7,8] = 1\n",
    "\n",
    "    # CITAS I-8\n",
    "    mat[8,5] = 1\n",
    "\n",
    "    # CITAS J-9\n",
    "    mat[9,8] = 1\n",
    " \n",
    "\n",
    "    # CITAS K-10"
   ]
  },
  {
   "cell_type": "code",
   "execution_count": 4,
   "metadata": {},
   "outputs": [],
   "source": [
    "def generarD(W:MatrizRala):\n",
    "    resultado = MatrizRala(W.shape[0],W.shape[1])\n",
    "    \n",
    "    for i in range(W.shape[0]):\n",
    "        cantidad_1s = 0\n",
    "        for j in range(W.shape[0]):\n",
    "            if W[i,j] == 1:\n",
    "                cantidad_1s += 1\n",
    "        if cantidad_1s != 0:\n",
    "            resultado[i,i] = 1/cantidad_1s\n",
    "        \n",
    "    return resultado"
   ]
  },
  {
   "cell_type": "code",
   "execution_count": 5,
   "metadata": {},
   "outputs": [],
   "source": [
    "def generar_idt(m):\n",
    "    \n",
    "    B = MatrizRala(m,m)\n",
    "    for i in range(B.shape[0]):\n",
    "        B.__setitem__((i,i),1)\n",
    "    \n",
    "    return B\n",
    "       \n",
    "def generar_inv(A): \n",
    "    if A.shape[0] != A.shape[1]:\n",
    "        raise ValueError(\"la matriz no es cuadrada\")\n",
    "        \n",
    "    identidad = generar_idt(A)\n",
    "    resultado = MatrizRala(A.shape[0],A.shape[0])\n",
    "        \n",
    "    for i in range(A.shape[0]):\n",
    "        for j in range(A.shape[0]):\n",
    "            resultado[i,j] = A[i,j]\n",
    "        \n",
    "    for i in range(A.shape[0]):\n",
    "        factor = 1.0 / A[i,i]\n",
    "            \n",
    "        for j in range(A.shape[0]):\n",
    "            resultado[i,j] *= factor\n",
    "            identidad[i,j] *= factor\n",
    "                \n",
    "        for k in range(A.shape[0]):\n",
    "            if k!=i:\n",
    "                factor = resultado[k,i]\n",
    "                    \n",
    "                for j in range(A.shape[0]):\n",
    "                    resultado[k,j] -= factor*resultado[i,j]\n",
    "                    identidad[k,j] -= factor*identidad[i,j]\n",
    "                        \n",
    "    return identidad   "
   ]
  },
  {
   "cell_type": "code",
   "execution_count": 6,
   "metadata": {},
   "outputs": [],
   "source": [
    "def calcular_diferencia_entre_vectores(A:MatrizRala, B:MatrizRala):\n",
    "    \n",
    "    # Verificar que los vectores tengan la misma longitud\n",
    "    if A.shape[0] != B.shape[0]:\n",
    "        raise ValueError(\"Los vectores deben tener la misma longitud.\")\n",
    "    \n",
    "    # Calcular la norma L1 de la diferencia entre los vectores\n",
    "    dif = 0\n",
    "    for i in range(A.shape[0]):\n",
    "        diferencia_absoluta = abs(A[i,0] - B[i,0])\n",
    "        dif += diferencia_absoluta\n",
    "    \n",
    "    return dif"
   ]
  },
  {
   "cell_type": "markdown",
   "metadata": {},
   "source": [
    "### NumPy"
   ]
  },
  {
   "cell_type": "markdown",
   "metadata": {},
   "source": [
    "Crear las matrices $\\mathbf{W}$ y $\\mathbf{D}$ para la Figura 3 utilizando NumPy."
   ]
  },
  {
   "cell_type": "code",
   "execution_count": 7,
   "metadata": {},
   "outputs": [],
   "source": [
    "filas = [0,0,0,1,4,5,5,6,6,6,7,8,9]\n",
    "columnas = [2,3,4,0,10,6,0,7,8,0,9,5,8]\n",
    "\n",
    "   \n",
    "W = np.zeros((11, 11))\n",
    "W[filas,columnas] = 1\n",
    "\n",
    "   \n",
    "D = np.zeros((11, 11))\n",
    "for i in range(len(W)):\n",
    "    cantidad_1s = 0\n",
    "    for j in range(len(W)):\n",
    "        if  W[i,j] == 1:\n",
    "            cantidad_1s += 1\n",
    "    if cantidad_1s != 0:\n",
    "        D[i,i] = round((1/cantidad_1s),2)\n",
    "        "
   ]
  },
  {
   "cell_type": "markdown",
   "metadata": {},
   "source": [
    "Expresar la ecuacion como un sistema lineal $Ax = b$ y resolver para $p^∗$ utilizando $d = 0,85$ con NumPy"
   ]
  },
  {
   "cell_type": "code",
   "execution_count": 8,
   "metadata": {},
   "outputs": [],
   "source": [
    "d = 0.85\n",
    "N = W.shape[0]\n",
    "I = np.eye(N)\n",
    "\n",
    "A = I - (d*(np.dot(W,D)))\n",
    "    \n",
    "unos = np.ones((N, 1))\n",
    "    \n",
    "b = ((1-d)/N)*unos \n",
    "\n",
    "#con gauss jordan \n",
    "p_star = np.linalg.solve(A, b)\n",
    "\n",
    "#con la inversa\n",
    "#A_1 = np.linalg.pinv(A)\n",
    "\n",
    "#p_star = np.dot(A_1,b)\n",
    "\n"
   ]
  },
  {
   "cell_type": "markdown",
   "metadata": {},
   "source": [
    "### MatricesRalas"
   ]
  },
  {
   "cell_type": "markdown",
   "metadata": {},
   "source": [
    "Crear las matrices $\\mathbf{W}$ y $\\mathbf{D}$ para la Figura 3 utilizando MatricesRalas."
   ]
  },
  {
   "cell_type": "code",
   "execution_count": 9,
   "metadata": {},
   "outputs": [],
   "source": [
    "W = MatrizRala(11,11)\n",
    "fillMatrix(W)\n",
    "\n",
    "D = generarD(W)"
   ]
  },
  {
   "cell_type": "markdown",
   "metadata": {},
   "source": [
    "Si el sistema converge, encontraremos un vector de probabilidades p∗ con matrices ralas. Expresar la ecuacion como un sistema lineal (Ax = b) y resolver para p∗ utilizando d = 0, 85"
   ]
  },
  {
   "cell_type": "markdown",
   "metadata": {},
   "source": [
    "Para expresar la ecuación como un sistema lineal $Ax = b$, primero necesitamos reorganizarla. Dado que $p^*$ es el vector de probabilidades que queremos encontrar, podemos escribir la ecuación como:\n",
    "\n",
    "$p^* = \\frac{1 - d}{N} \\mathbf{1} + d \\mathbf{W}\\mathbf{D}p^*$\n",
    "\n",
    "donde:\n",
    "- $\\mathbf{1}$ es un vector de unos de tamaño $Nx1$.\n",
    "- $\\mathbf{W}$ es la matriz que indica que paper cito al otro.\n",
    "- $\\mathbf{D}$ es la matriz diagonal que contiene la probabilidad dada que un paper sea citado en algun paper dado.\n",
    "- $d$ probabilidad aleatoria de continuar leyendo alguno de los trabajos citados \n",
    "- $N$ es la cantidad de papers\n",
    "\n",
    "Ahora, podemos reorganizar esta ecuación para obtener:\n",
    "\n",
    "$p^* - d \\mathbf{W}\\mathbf{D}p^* = \\frac{1 - d}{N} \\mathbf{1}$\n",
    "\n",
    "$p^* \\left(\\mathbf{I} - d \\mathbf{W}\\mathbf{D}\\right) = \\frac{1 - d}{N} \\mathbf{1}$\n",
    "\n",
    "\n",
    "Ahora, podemos expresar esto como un sistema lineal $Ax = b$, donde:\n",
    "- $A = I - d\\mathbf{W}\\mathbf{D}$, siendo $I$ la matriz identidad.\n",
    "- $x = p^*$.\n",
    "- $b = \\frac{1 - d}{N} \\mathbf{1}$.\n",
    "\n",
    "Esta es la forma en que podemos expresar la ecuación como un sistema lineal. Ahora, podemos utilizar métodos numéricos para resolver este sistema y encontrar el vector de probabilidades $p^*$.\n"
   ]
  },
  {
   "cell_type": "code",
   "execution_count": 10,
   "metadata": {},
   "outputs": [],
   "source": [
    "N = W.shape[0]\n",
    "I = generar_idt(N)\n",
    "\n",
    "d = 0.85\n",
    "WD = W @ D\n",
    "A = I - (d * WD)\n",
    "\n",
    "unos = MatrizRala(W.shape[0],1)\n",
    "\n",
    "for i in range(unos.shape[0]):\n",
    "    unos[i,0] = 1\n",
    "\n",
    "\n",
    "b = ((1 - d)/N) * unos\n",
    "\n",
    "#usando gauss jordan\n",
    "p_star = GaussJordan(A,b)\n",
    "\n",
    "#usando la inversa\n",
    "# A_1 = generar_inv(A)\n",
    "# p_star = A_1 @ b\n"
   ]
  },
  {
   "cell_type": "markdown",
   "metadata": {},
   "source": [
    "Comparar el resultado obtenido con el metodo iterativo utilizando una distribucion equiprobable para la probabilidad inicial. Para realizar la comparaci´on, graficar la diferencia absoluta entre $p_{t}$ y $p^*$ para valores de t hasta ver que converge."
   ]
  },
  {
   "cell_type": "code",
   "execution_count": 11,
   "metadata": {},
   "outputs": [
    {
     "data": {
      "image/png": "[encoded data removed]",
      "text/plain": [
       "<Figure size 640x480 with 1 Axes>"
      ]
     },
     "metadata": {},
     "output_type": "display_data"
    }
   ],
   "source": [
    "#calculo utilizando metodo iterativo \n",
    "\n",
    "# Vector de probabilidades inicial con distribución equiprobable\n",
    "p = MatrizRala(N,1)\n",
    "for i in range(N):\n",
    "    p[i,0] = 1/N\n",
    "    \n",
    "unos = MatrizRala(N,1)\n",
    "for i in range(N):\n",
    "    unos[i,0] = 1\n",
    "    \n",
    "# Método iterativo\n",
    "tolerancia = 0.0000000000000000000000000000000000000000000000000000000000000000000000000000000000000001\n",
    "max_iteraciones = 100\n",
    "diferencias = []\n",
    "\n",
    "\n",
    "for t in range(max_iteraciones):\n",
    "    p_previo = p.__copy__()\n",
    "    parte_div = (1 - d) / N\n",
    "    WD = W @ D\n",
    "    WDP_t = WD @ p_previo\n",
    "    p = parte_div * unos + d *WDP_t\n",
    "    \n",
    "    # Calcular la diferencia absoluta entre p y p*\n",
    "    dif = calcular_diferencia_entre_vectores(p,p_star)\n",
    "    \n",
    "    diferencias.append(dif)\n",
    "    \n",
    "    if dif < tolerancia:\n",
    "        print(f\"Convergencia alcanzada en la iteración {t + 1}.\")\n",
    "        break\n",
    "\n",
    "# Graficar la diferencia absoluta vs. t\n",
    "plt.figure()\n",
    "plt.plot(range(max_iteraciones), diferencias, label='Diferencia Absoluta')\n",
    "plt.xlabel('Iteraciones (t)')\n",
    "plt.ylabel('Diferencia Absoluta')\n",
    "plt.title('Convergencia del Método Iterativo')\n",
    "plt.legend()\n",
    "plt.grid(True)\n",
    "plt.show() \n",
    "    \n",
    "    "
   ]
  },
  {
   "cell_type": "code",
   "execution_count": 12,
   "metadata": {},
   "outputs": [
    {
     "name": "stdout",
     "output_type": "stream",
     "text": [
      "MatrizRala([ \n",
      "    [ 0.02522727272727273  ]\n",
      "    [ 0.020784090909090912  ]\n",
      "    [ 0.01363636363636364  ]\n",
      "    [ 0.01363636363636364  ]\n",
      "    [ 0.01363636363636364  ]\n",
      "    [ 0.056733094477055365  ]\n",
      "    [ 0.08458589074815162  ]\n",
      "    [ 0.04572210310710899  ]\n",
      "    [ 0.03774792878911217  ]\n",
      "    [ 0.04572210310710899  ]\n",
      "    [ 0.01363636363636364  ]\n",
      "])\n",
      "MatrizRala([ \n",
      "    [ 0.02522727272727273  ]\n",
      "    [ 0.020784090909090912  ]\n",
      "    [ 0.01363636363636364  ]\n",
      "    [ 0.01363636363636364  ]\n",
      "    [ 0.01363636363636364  ]\n",
      "    [ 0.05673309447705534  ]\n",
      "    [ 0.0845858907481516  ]\n",
      "    [ 0.045722103107108975  ]\n",
      "    [ 0.03774792878911216  ]\n",
      "    [ 0.045722103107108975  ]\n",
      "    [ 0.01363636363636364  ]\n",
      "])\n"
     ]
    }
   ],
   "source": [
    "print(p)\n",
    "print(p_star)"
   ]
  },
  {
   "cell_type": "markdown",
   "metadata": {},
   "source": [
    "Codigo Guido"
   ]
  },
  {
   "cell_type": "code",
   "execution_count": 17,
   "metadata": {},
   "outputs": [],
   "source": [
    "\n",
    "def getMatDNump(W:np.ndarray)->np.ndarray:\n",
    "    D = np.zeros_like(W)\n",
    "    for i in range(D.shape[0]):\n",
    "        if sum(W[i,:]) != 0:\n",
    "            D[i,i] = 1/sum(W[i,:])\n",
    "    return D\n",
    "\n",
    "\n",
    "    \n",
    "def nextP(P:np.ndarray,W,D,d)->np.ndarray:\n",
    "    termino_1 = 1-d / W.shape[0]\n",
    "    termino_1 = np.zeros_like(P) + 1 * termino_1\n",
    "    termino_2 = d * W @ D @ P\n",
    "    return termino_1 + termino_2\n",
    "\n",
    "def getMatD(W:MatrizRala):\n",
    "    N = W.shape[0]\n",
    "    D = MatrizRala(N,N)\n",
    "    for i in range(D.shape[0]):\n",
    "        fila_i = W.return_fila_entera(i)\n",
    "        cantCitas = fila_i.count(1)\n",
    "        if cantCitas != 0:\n",
    "            D[i,i] = cantCitas\n",
    "    return D\n",
    "\n",
    "def metodoIterativo(P,W,D,d,max_iter:int,dif:list):\n",
    "\n",
    "    # Pt+1 = (1-d)/N 1 + d * W @ D * Pt\n",
    "\n",
    "\n",
    "    M = d * W @ D\n",
    "    print(M)\n",
    "    # N = W.shape[0]\n",
    "\n",
    "    # term_1 = MatrizRala(N,1)\n",
    "    # for i in range(term_1.shape[0]):\n",
    "    #     term_1[i,0] = (1-d) / N\n",
    "    \n",
    "    # for i in range(max_iter):\n",
    "    #     print(M.shape,P.shape,flush=False)\n",
    "    #     P_next = term_1 + M @ P\n",
    "    #     vect_dif = P_next - P\n",
    "    #     dif.append(vect_dif.sum())\n",
    "    #     P = nextP\n",
    "    # return nextP\n",
    "    \n",
    "    \n"
   ]
  },
  {
   "cell_type": "code",
   "execution_count": 19,
   "metadata": {},
   "outputs": [
    {
     "name": "stdout",
     "output_type": "stream",
     "text": [
      "MatrizRala([ \n",
      "    [ 0.0  0.0  0.0  0.0  0.85  0.0  0.0  0.0  0.0  0.0  0.0  ]\n",
      "    [ 2.55  0.0  0.0  0.0  0.0  0.0  0.0  0.0  0.0  0.0  0.0  ]\n",
      "    [ 0  0  0  0  0  0  0  0  0  0  0  ]\n",
      "    [ 0  0  0  0  0  0  0  0  0  0  0  ]\n",
      "    [ 0.0  0.0  0.0  0.0  0.0  0.0  0.0  0.0  0.0  0.0  0.0  ]\n",
      "    [ 2.55  0.0  0.0  0.0  0.0  0.0  1.7  0.0  0.0  0.0  0.0  ]\n",
      "    [ 0.0  0.0  0.0  0.0  0.0  0.0  0.0  0.85  0.85  0.0  0.0  ]\n",
      "    [ 0.0  0.0  0.0  0.0  0.0  0.0  0.0  0.0  0.85  0.0  0.0  ]\n",
      "    [ 0.0  0.0  0.0  0.0  0.0  1.7  0.0  0.0  0.0  0.0  0.0  ]\n",
      "    [ 0.0  0.0  0.0  0.0  0.0  0.0  0.0  0.0  0.85  0.0  0.0  ]\n",
      "    [ 0  0  0  0  0  0  0  0  0  0  0  ]\n",
      "])\n",
      "DIFERENCIAS: \n",
      "\n"
     ]
    },
    {
     "ename": "TypeError",
     "evalue": "unsupported operand type(s) for -: 'NoneType' and 'MatrizRala'",
     "output_type": "error",
     "traceback": [
      "\u001b[0;31m---------------------------------------------------------------------------\u001b[0m",
      "\u001b[0;31mTypeError\u001b[0m                                 Traceback (most recent call last)",
      "Cell \u001b[0;32mIn[19], line 59\u001b[0m\n\u001b[1;32m     55\u001b[0m     \u001b[39mprint\u001b[39m(\u001b[39mint\u001b[39m(P_iterativo\u001b[39m.\u001b[39msum() \u001b[39m-\u001b[39m x\u001b[39m.\u001b[39msum()))\n\u001b[1;32m     57\u001b[0m \u001b[39mif\u001b[39;00m \u001b[39m__name__\u001b[39m \u001b[39m==\u001b[39m \u001b[39m\"\u001b[39m\u001b[39m__main__\u001b[39m\u001b[39m\"\u001b[39m:\n\u001b[1;32m     58\u001b[0m     \u001b[39m# mainNumpy()\u001b[39;00m\n\u001b[0;32m---> 59\u001b[0m     main()\n",
      "Cell \u001b[0;32mIn[19], line 53\u001b[0m, in \u001b[0;36mmain\u001b[0;34m()\u001b[0m\n\u001b[1;32m     49\u001b[0m \u001b[39m# print(\"ITERATIVO: \\n\")\u001b[39;00m\n\u001b[1;32m     50\u001b[0m \u001b[39m# print(P_iterativo)\u001b[39;00m\n\u001b[1;32m     52\u001b[0m \u001b[39mprint\u001b[39m(\u001b[39m\"\u001b[39m\u001b[39mDIFERENCIAS: \u001b[39m\u001b[39m\\n\u001b[39;00m\u001b[39m\"\u001b[39m)\n\u001b[0;32m---> 53\u001b[0m \u001b[39mprint\u001b[39m(P_iterativo \u001b[39m-\u001b[39m x)\n\u001b[1;32m     54\u001b[0m \u001b[39mprint\u001b[39m(\u001b[39m\"\u001b[39m\u001b[39mSUMA DIFERENCIAS: \u001b[39m\u001b[39m\\n\u001b[39;00m\u001b[39m\"\u001b[39m)\n\u001b[1;32m     55\u001b[0m \u001b[39mprint\u001b[39m(\u001b[39mint\u001b[39m(P_iterativo\u001b[39m.\u001b[39msum() \u001b[39m-\u001b[39m x\u001b[39m.\u001b[39msum()))\n",
      "\u001b[0;31mTypeError\u001b[0m: unsupported operand type(s) for -: 'NoneType' and 'MatrizRala'"
     ]
    }
   ],
   "source": [
    "def main():\n",
    "    N = 11\n",
    "    d = 0.85\n",
    "    W = MatrizRala(N,N)\n",
    "    fillMatrix(W)\n",
    "    D = getMatD(W)\n",
    "\n",
    "    # print(W,D)\n",
    "\n",
    "    # MARCO TEORICO\n",
    "\n",
    "    # P* = (1-d)/N 1 + d * W @ D * P*\n",
    "    # P* - dWDP* = (1-d)/N * 1\n",
    "    # (1 - dWD)P* = (1-d)/N * 1\n",
    "    #     A     x =  b\n",
    "    \n",
    "\n",
    "    # METODO DE GAUSS JORDAN\n",
    "    \n",
    "    # A\n",
    "    oneMat = MatrizRala.One(N)\n",
    "    dWD = d * W @ D\n",
    "    A = oneMat - dWD\n",
    "    # print(A)\n",
    "\n",
    "    # b\n",
    "    b = MatrizRala(N,1)\n",
    "    for i in range(N):\n",
    "        b[i,0] = 1\n",
    "    b = ((1-d)/N) * b\n",
    "\n",
    "    x = GaussJordan(A,b)\n",
    "    # print(\"GAUSS JORDAN: \\n\")\n",
    "    # print(x)\n",
    "\n",
    "    # METODO ITERATIVO\n",
    "\n",
    "    # P = (1-d)/N 1 + d * W @ D * P\n",
    "    P = MatrizRala(N,1)\n",
    "\n",
    "    for i in range(N):\n",
    "        P[i,0] = 1/N    \n",
    "\n",
    "    \n",
    "    \n",
    "    max_iteraciones = 20\n",
    "    diferencias = []    \n",
    "    P_iterativo = metodoIterativo(P,W,D,d,max_iteraciones,diferencias)\n",
    "    # print(\"ITERATIVO: \\n\")\n",
    "    # print(P_iterativo)\n",
    "\n",
    "    print(\"DIFERENCIAS: \\n\")\n",
    "    print(P_iterativo - x)\n",
    "    print(\"SUMA DIFERENCIAS: \\n\")\n",
    "    print(int(P_iterativo.sum() - x.sum()))\n",
    "\n",
    "if __name__ == \"__main__\":\n",
    "    # mainNumpy()\n",
    "    main()"
   ]
  },
  {
   "cell_type": "code",
   "execution_count": 25,
   "metadata": {},
   "outputs": [
    {
     "name": "stdout",
     "output_type": "stream",
     "text": [
      "MatrizRala([ \n",
      "    [ 1  2  ]\n",
      "    [ 4  5  ]\n",
      "])\n"
     ]
    }
   ],
   "source": [
    "A = MatrizRala(2,3)\n",
    "B = MatrizRala(3,2)\n",
    "\n",
    "A[0,0] = 1\n",
    "A[0,1] = 0\n",
    "A[0,2] = 0\n",
    "A[1,0] = 0\n",
    "A[1,1] = 1\n",
    "A[1,2] = 0\n",
    "A[2,0] = 0\n",
    "A[2,1] = 0\n",
    "A[2,2] = 1\n",
    "\n",
    "B[0,0] = 1\n",
    "B[0,1] = 2\n",
    "B[0,2] = 3\n",
    "B[1,0] = 4\n",
    "B[1,1] = 5\n",
    "B[1,2] = 6\n",
    "B[2,0] = 7\n",
    "B[2,1] = 8\n",
    "B[2,2] = 9\n",
    "\n",
    "\n",
    "\n",
    "print(A @ B)\n"
   ]
  }
 ],
 "metadata": {
  "kernelspec": {
   "display_name": "base",
   "language": "python",
   "name": "python3"
  },
  "language_info": {
   "codemirror_mode": {
    "name": "ipython",
    "version": 3
   },
   "file_extension": ".py",
   "mimetype": "text/x-python",
   "name": "python",
   "nbconvert_exporter": "python",
   "pygments_lexer": "ipython3",
   "version": "3.11.5"
  },
  "vscode": {
   "interpreter": {
    "hash": "588a077454552c0b608c7a75f739e0012bc0a6317cbb2228f1831255df17ce82"
   }
  }
 },
 "nbformat": 4,
 "nbformat_minor": 2
}
