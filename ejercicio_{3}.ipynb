{
 "cells": [
  {
   "attachments": {},
   "cell_type": "markdown",
   "metadata": {},
   "source": [
    "# Imports"
   ]
  },
  {
   "cell_type": "code",
   "execution_count": 1,
   "metadata": {},
   "outputs": [],
   "source": [
    "import numpy as np\n",
    "import matplotlib.pyplot as plt\n",
    "from matricesRalas import *"
   ]
  },
  {
   "attachments": {},
   "cell_type": "markdown",
   "metadata": {},
   "source": [
    "### Datos del Grafo"
   ]
  },
  {
   "cell_type": "code",
   "execution_count": 2,
   "metadata": {},
   "outputs": [],
   "source": [
    "def fillMatrixEJ3():\n",
    "    mat = MatrizRala(11,11)\n",
    "    # CITAS A-0\n",
    "    mat[0,2] = 1\n",
    "    mat[0,3] = 1\n",
    "    mat[0,4] = 1\n",
    "\n",
    "    # CITAS B-1\n",
    "    mat[1,0] = 1\n",
    "\n",
    "    # CITAS C-2\n",
    "\n",
    "    # CITAS D-3\n",
    "\n",
    "    # CITAS E-4\n",
    "    mat[4,10] = 1\n",
    "\n",
    "    # CITAS F-5\n",
    "    mat[5,0] = 1\n",
    "    mat[5,6] = 1\n",
    "\n",
    "    # CITAS G-6\n",
    "    mat[6,7] = 1\n",
    "    mat[6,8] = 1\n",
    "\n",
    "    # CITAS H-7\n",
    "    mat[7,8] = 1\n",
    "\n",
    "    # CITAS I-8\n",
    "    mat[8,5] = 1\n",
    "\n",
    "    # CITAS J-9\n",
    "    mat[9,8] = 1\n",
    " \n",
    "\n",
    "    # CITAS K-10\n",
    "\n",
    "    return mat"
   ]
  },
  {
   "attachments": {},
   "cell_type": "markdown",
   "metadata": {},
   "source": [
    "Crear las matrices $\\mathbf{W}$ y $\\mathbf{D}$ para la  utilizando la clas MatrizRala"
   ]
  },
  {
   "cell_type": "code",
   "execution_count": 3,
   "metadata": {},
   "outputs": [],
   "source": [
    "W = fillMatrixEJ3()\n",
    "D = W.getD()"
   ]
  },
  {
   "attachments": {},
   "cell_type": "markdown",
   "metadata": {},
   "source": [
    "Para expresar la ecuación como un sistema lineal $Ax = b$, primero necesitamos reorganizarla. Dado que $p^*$ es el vector de probabilidades que queremos encontrar, podemos escribir la ecuación como:\n",
    "\n",
    "$p^* = \\frac{1 - d}{N} \\mathbf{1} + d \\mathbf{W}\\mathbf{D}p^*$\n",
    "\n",
    "donde:\n",
    "- $\\mathbf{1}$ es un vector de unos de tamaño $Nx1$.\n",
    "- $\\mathbf{W}$ es la matriz que indica que paper cito al otro.\n",
    "- $\\mathbf{D}$ es la matriz diagonal que contiene la probabilidad dada que un paper sea citado en algun paper dado.\n",
    "- $d$ probabilidad aleatoria de continuar leyendo alguno de los trabajos citados \n",
    "- $N$ es la cantidad de papers\n",
    "\n",
    "Ahora, podemos reorganizar esta ecuación para obtener:\n",
    "\n",
    "$p^* - d \\mathbf{W}\\mathbf{D}p^* = \\frac{1 - d}{N} \\mathbf{1}$\n",
    "\n",
    "$p^* \\left(\\mathbf{I} - d \\mathbf{W}\\mathbf{D}\\right) = \\frac{1 - d}{N} \\mathbf{1}$\n",
    "\n",
    "\n",
    "Ahora, podemos expresar esto como un sistema lineal $Ax = b$, donde:\n",
    "- $A = I - d\\mathbf{W}\\mathbf{D}$, siendo $I$ la matriz identidad.\n",
    "- $x = p^*$.\n",
    "- $b = \\frac{1 - d}{N} \\mathbf{1}$.\n",
    "\n",
    "Esta es la forma en que podemos expresar la ecuación como un sistema lineal. Ahora, podemos utilizar métodos numéricos para resolver este sistema y encontrar el vector de probabilidades $p^*$.\n"
   ]
  },
  {
   "cell_type": "markdown",
   "metadata": {},
   "source": [
    "Si el sistema converge, encontraremos un vector de probabilidades p∗ con matrices ralas. Expresar la ecuacion como un sistema lineal (Ax = b) y resolver para p∗ utilizando d = 0, 85"
   ]
  },
  {
   "cell_type": "code",
   "execution_count": 4,
   "metadata": {},
   "outputs": [],
   "source": [
    "d = 0.85\n",
    "N = W.shape[0]\n",
    "I = MatrizRala.One(N)\n",
    "\n",
    "A = I -  d * W @ D #(d*(np.dot(W,D)))\n",
    "    \n",
    "vector_1 = MatrizRala.getVectorOne(N)\n",
    "\n",
    "b = MatrizRala.getVectorOne(N) * ((1-d)/N)\n",
    "\n",
    "# Metodo gauss\n",
    "p_sol = GaussJordan(A,b)\n",
    "\n",
    "\n",
    "# Metodo Inversa\n",
    "invA = A.inversa()\n",
    "p_sol = invA @ b\n"
   ]
  },
  {
   "cell_type": "markdown",
   "metadata": {},
   "source": [
    "Comparar el resultado obtenido con el metodo iterativo utilizando una distribucion equiprobable para la probabilidad inicial. Para realizar la comparaci´on, graficar la diferencia absoluta entre $p_{t}$ y $p^*$ para valores de t hasta ver que converge."
   ]
  },
  {
   "attachments": {},
   "cell_type": "markdown",
   "metadata": {},
   "source": [
    "### Metodo Iterativo"
   ]
  },
  {
   "attachments": {},
   "cell_type": "markdown",
   "metadata": {},
   "source": [
    "$p^* = \\frac{1 - d}{N} \\mathbf{1} + d \\mathbf{W}\\mathbf{D}p^*$"
   ]
  },
  {
   "cell_type": "code",
   "execution_count": 5,
   "metadata": {},
   "outputs": [
    {
     "name": "stdout",
     "output_type": "stream",
     "text": [
      "Convergencia alcanzada en la iteración 33.\n",
      "Resultado\n",
      "MatrizRala([ \n",
      "    [ 0.02522727272727273  ]\n",
      "    [ 0.020784090909090912  ]\n",
      "    [ 0.01363636363636364  ]\n",
      "    [ 0.01363636363636364  ]\n",
      "    [ 0.01363636363636364  ]\n",
      "    [ 0.0567335356759534  ]\n",
      "    [ 0.08458663284993452  ]\n",
      "    [ 0.045722442688120535  ]\n",
      "    [ 0.037748201094782274  ]\n",
      "    [ 0.045722442688120535  ]\n",
      "    [ 0.01363636363636364  ]\n",
      "])\n"
     ]
    }
   ],
   "source": [
    "#calculo utilizando metodo iterativo \n",
    "\n",
    "# Vector de probabilidades inicial con distribución equiprobable\n",
    "p = MatrizRala.getVectorOne(W.shape[0]) * (1/W.shape[0])\n",
    "    \n",
    "unos = MatrizRala.getVectorOne(W.shape[0])\n",
    "    \n",
    "# Método iterativo\n",
    "tolerancia = 0.000001\n",
    "max_iteraciones = 100\n",
    "diferencias = []\n",
    "\n",
    "\n",
    "for t in range(max_iteraciones):\n",
    "    p_previo = p.__copy__()\n",
    "    parte_div = (1 - d) / N\n",
    "    WD = W @ D\n",
    "    WDP_t = WD @ p_previo\n",
    "    p = parte_div * unos + d *WDP_t\n",
    "    \n",
    "    # Calcular la diferencia absoluta entre p y p*\n",
    "    dif = MatrizRala.diffVectors(p,p_previo)\n",
    "    \n",
    "    diferencias.append(dif)\n",
    "    \n",
    "    if dif < tolerancia:\n",
    "        print(f\"Convergencia alcanzada en la iteración {t + 1}.\")\n",
    "        print(\"Resultado\")\n",
    "        print(p)\n",
    "        break\n",
    "\n",
    "\n",
    "    \n",
    "    "
   ]
  },
  {
   "cell_type": "markdown",
   "metadata": {},
   "source": [
    "Codigo Guido"
   ]
  },
  {
   "attachments": {},
   "cell_type": "markdown",
   "metadata": {},
   "source": [
    "# Tests Rapidos"
   ]
  },
  {
   "cell_type": "code",
   "execution_count": 6,
   "metadata": {},
   "outputs": [
    {
     "name": "stdout",
     "output_type": "stream",
     "text": [
      "MatrizRala([ \n",
      "    [ 30  36  42  ]\n",
      "    [ 66  81  96  ]\n",
      "    [ 102  126  150  ]\n",
      "])\n"
     ]
    }
   ],
   "source": [
    "import numpy as np\n",
    "import matplotlib.pyplot as plt\n",
    "from matricesRalas import *\n",
    "\n",
    "A = MatrizRala(3,3)\n",
    "B = MatrizRala(3,3)\n",
    "res = MatrizRala(3,3)\n",
    "\n",
    "A[0,0] = 1\n",
    "A[0,1] = 2\n",
    "A[0,2] = 3  \n",
    "A[1,0] = 4\n",
    "A[1,1] = 5\n",
    "A[1,2] = 6\n",
    "A[2,0] = 7\n",
    "A[2,1] = 8\n",
    "A[2,2] = 9\n",
    "\n",
    "B[0,0] = 1\n",
    "B[0,1] = 2\n",
    "B[0,2] = 3\n",
    "B[1,0] = 4\n",
    "B[1,1] = 5\n",
    "B[1,2] = 6\n",
    "B[2,0] = 7\n",
    "B[2,1] = 8\n",
    "B[2,2] = 9\n",
    "\n",
    "C = A @ B\n",
    "\n",
    "print(C)\n",
    "\n",
    "res[0,0] = 30\n",
    "res[0,1] = 36\n",
    "res[0,2] = 42\n",
    "res[1,0] = 66\n",
    "res[1,1] = 81\n",
    "res[1,2] = 96\n",
    "res[2,0] = 102\n",
    "res[2,1] = 126\n",
    "res[2,2] = 150\n",
    "\n",
    "\n"
   ]
  },
  {
   "cell_type": "code",
   "execution_count": 7,
   "metadata": {},
   "outputs": [],
   "source": [
    "import numpy as np\n",
    "import matplotlib.pyplot as plt\n",
    "from matricesRalas import *\n",
    "\n",
    "\n",
    "\n",
    "def build_graph(rangex:int, y_axis:list):\n",
    "    \"\"\"Toma un valor y una lista y genera un grafico\n",
    "\n",
    "    Args:\n",
    "        rangex (int): Canitdad de iteraciones\n",
    "        y_axis (list): Un vector que lleva las diferencias entre p y pt\n",
    "    \"\"\"\n",
    "    # Graficar la diferencia absoluta vs. t\n",
    "    plt.figure()\n",
    "    plt.plot(range(rangex), y_axis, label='Diferencia Absoluta')\n",
    "    plt.xlabel('Iteraciones (t)')\n",
    "    plt.ylabel('Diferencia Absoluta')\n",
    "    plt.title('Convergencia del Método Iterativo')\n",
    "    plt.legend()\n",
    "    plt.grid(True)\n",
    "    plt.show() \n",
    "    \n"
   ]
  },
  {
   "cell_type": "code",
   "execution_count": 9,
   "metadata": {},
   "outputs": [
    {
     "name": "stdout",
     "output_type": "stream",
     "text": [
      "MatrizRala([ \n",
      "    [ 9.0  ]\n",
      "    [ 8.0  ]\n",
      "    [ 7.0  ]\n",
      "    [ 6.0  ]\n",
      "    [ 5.0  ]\n",
      "    [ 4.0  ]\n",
      "    [ 3.0  ]\n",
      "    [ 2.0  ]\n",
      "    [ 1.0  ]\n",
      "    [ 0.0  ]\n",
      "])\n"
     ]
    }
   ],
   "source": [
    "vector = MatrizRala.getVectorOne(10)\n",
    "for i in range(10):\n",
    "    vector[i,0] = i\n",
    "# print(vector)\n",
    "vectorNumpy = vector.toNumpy()\n",
    "# ordenar de mayor a menor\n",
    "argSort = np.argsort(vectorNumpy, axis=0)[::-1]# ordena de mayor a menor\n",
    "vectorNumpy = np.sort(vectorNumpy, axis=0)[::-1]\n",
    "\n",
    "# print(argSort)\n",
    "\n",
    "vectorNumpy\n",
    "vectorRala = MatrizRala.fromNumpy(vectorNumpy)\n",
    "print(vectorRala)"
   ]
  }
 ],
 "metadata": {
  "kernelspec": {
   "display_name": "base",
   "language": "python",
   "name": "python3"
  },
  "language_info": {
   "codemirror_mode": {
    "name": "ipython",
    "version": 3
   },
   "file_extension": ".py",
   "mimetype": "text/x-python",
   "name": "python",
   "nbconvert_exporter": "python",
   "pygments_lexer": "ipython3",
   "version": "3.11.5"
  },
  "vscode": {
   "interpreter": {
    "hash": "588a077454552c0b608c7a75f739e0012bc0a6317cbb2228f1831255df17ce82"
   }
  }
 },
 "nbformat": 4,
 "nbformat_minor": 2
}
