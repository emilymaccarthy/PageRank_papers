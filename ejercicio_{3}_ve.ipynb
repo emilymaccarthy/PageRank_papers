{
 "cells": [
  {
   "attachments": {},
   "cell_type": "markdown",
   "metadata": {},
   "source": [
    "### Imports"
   ]
  },
  {
   "cell_type": "code",
   "execution_count": 16,
   "metadata": {},
   "outputs": [],
   "source": [
    "import numpy as np\n",
    "import matplotlib.pyplot as plt\n",
    "from matricesRalas_ve import *"
   ]
  },
  {
   "attachments": {},
   "cell_type": "markdown",
   "metadata": {},
   "source": [
    "### Datos del Grafo"
   ]
  },
  {
   "cell_type": "code",
   "execution_count": 17,
   "metadata": {},
   "outputs": [],
   "source": [
    "def fillMatrixEJ3():\n",
    "    mat = MatrizRala(11,11)\n",
    "    # CITAS A-0\n",
    "    mat[0,2] = 1\n",
    "    mat[0,3] = 1\n",
    "    mat[0,4] = 1\n",
    "\n",
    "    # CITAS B-1\n",
    "    mat[1,0] = 1\n",
    "\n",
    "    # CITAS C-2\n",
    "\n",
    "    # CITAS D-3\n",
    "\n",
    "    # CITAS E-4\n",
    "    mat[4,10] = 1\n",
    "\n",
    "    # CITAS F-5\n",
    "    mat[5,0] = 1\n",
    "    mat[5,6] = 1\n",
    "\n",
    "    # CITAS G-6\n",
    "    mat[6,7] = 1\n",
    "    mat[6,8] = 1\n",
    "\n",
    "    # CITAS H-7\n",
    "    mat[7,8] = 1\n",
    "\n",
    "    # CITAS I-8\n",
    "    mat[8,5] = 1\n",
    "\n",
    "    # CITAS J-9\n",
    "    mat[9,8] = 1\n",
    " \n",
    "\n",
    "    # CITAS K-10\n",
    "\n",
    "    return mat"
   ]
  },
  {
   "attachments": {},
   "cell_type": "markdown",
   "metadata": {},
   "source": [
    "Crear las matrices $\\mathbf{W}$ y $\\mathbf{D}$ para la  utilizando la clas MatrizRala"
   ]
  },
  {
   "cell_type": "code",
   "execution_count": 18,
   "metadata": {},
   "outputs": [],
   "source": [
    "W = fillMatrixEJ3()\n",
    "D = W.getD()\n"
   ]
  },
  {
   "cell_type": "markdown",
   "metadata": {},
   "source": [
    "### Gauss Jordan"
   ]
  },
  {
   "attachments": {},
   "cell_type": "markdown",
   "metadata": {},
   "source": [
    "Para expresar la ecuación como un sistema lineal $Ax = b$, primero necesitamos reorganizarla. Dado que $p^*$ es el vector de probabilidades que queremos encontrar, podemos escribir la ecuación como:\n",
    "\n",
    "$p^* = \\frac{1 - d}{N} \\mathbf{1} + d \\mathbf{W}\\mathbf{D}p^*$\n",
    "\n",
    "donde:\n",
    "- $\\mathbf{1}$ es un vector de unos de tamaño $Nx1$.\n",
    "- $\\mathbf{W}$ es la matriz que indica que paper cito al otro.\n",
    "- $\\mathbf{D}$ es la matriz diagonal que contiene la probabilidad dada que un paper sea citado en algun paper dado.\n",
    "- $d$ probabilidad aleatoria de continuar leyendo alguno de los trabajos citados \n",
    "- $N$ es la cantidad de papers\n",
    "\n",
    "Ahora, podemos reorganizar esta ecuación para obtener:\n",
    "\n",
    "$p^* - d \\mathbf{W}\\mathbf{D}p^* = \\frac{1 - d}{N} \\mathbf{1}$\n",
    "\n",
    "$p^* \\left(\\mathbf{I} - d \\mathbf{W}\\mathbf{D}\\right) = \\frac{1 - d}{N} \\mathbf{1}$\n",
    "\n",
    "\n",
    "Ahora, podemos expresar esto como un sistema lineal $Ax = b$, donde:\n",
    "- $A = I - d\\mathbf{W}\\mathbf{D}$, siendo $I$ la matriz identidad.\n",
    "- $x = p^*$.\n",
    "- $b = \\frac{1 - d}{N} \\mathbf{1}$.\n",
    "\n",
    "Esta es la forma en que podemos expresar la ecuación como un sistema lineal. Ahora, podemos utilizar métodos numéricos para resolver este sistema y encontrar el vector de probabilidades $p^*$.\n"
   ]
  },
  {
   "cell_type": "markdown",
   "metadata": {},
   "source": [
    "Si el sistema converge, encontraremos un vector de probabilidades p∗ con matrices ralas. Expresar la ecuacion como un sistema lineal (Ax = b) y resolver para p∗ utilizando d = 0, 85"
   ]
  },
  {
   "cell_type": "code",
   "execution_count": 13,
   "metadata": {},
   "outputs": [
    {
     "ename": "AttributeError",
     "evalue": "'numpy.ndarray' object has no attribute 't'",
     "output_type": "error",
     "traceback": [
      "\u001b[0;31m---------------------------------------------------------------------------\u001b[0m",
      "\u001b[0;31mAttributeError\u001b[0m                            Traceback (most recent call last)",
      "Cell \u001b[0;32mIn[13], line 7\u001b[0m\n\u001b[1;32m      2\u001b[0m N \u001b[39m=\u001b[39m W\u001b[39m.\u001b[39mshape[\u001b[39m0\u001b[39m]\n\u001b[1;32m      5\u001b[0m I \u001b[39m=\u001b[39m MatrizRala\u001b[39m.\u001b[39mOne(N)\n\u001b[0;32m----> 7\u001b[0m W_t \u001b[39m=\u001b[39m W\u001b[39m.\u001b[39mt()\n\u001b[1;32m      8\u001b[0m D_t \u001b[39m=\u001b[39m W_t\u001b[39m.\u001b[39mgetD()\n\u001b[1;32m     10\u001b[0m A \u001b[39m=\u001b[39m I \u001b[39m-\u001b[39m  d \u001b[39m*\u001b[39m W\u001b[39m.\u001b[39mmul_daig(D_t) \n",
      "\u001b[0;31mAttributeError\u001b[0m: 'numpy.ndarray' object has no attribute 't'"
     ]
    }
   ],
   "source": [
    "d = 0.85\n",
    "N = W.shape[0]\n",
    "\n",
    "\n",
    "I = MatrizRala.One(N)\n",
    "\n",
    "W_t = W.t()\n",
    "D_t = W_t.getD()\n",
    "\n",
    "A = I -  d * W.mul_daig(D_t) \n",
    "    \n",
    "vector_1 = MatrizRala.getVectorOne(N)\n",
    "\n",
    "b = vector_1 * ((1-d)/N)\n",
    "\n",
    "# Metodo gauss\n",
    "p_sol = GaussJordan(A,b)\n",
    "\n",
    "print(p_sol)\n",
    "\n",
    "print(p_sol.sum())\n",
    "\n",
    "# Metodo Inversa\n",
    "invA = A.inversa()\n",
    "p_sol = invA @ b\n",
    "\n",
    "print(p_sol)\n",
    "\n",
    "print(p_sol.sum())\n",
    "\n",
    "\n",
    "\n",
    "\n"
   ]
  },
  {
   "cell_type": "markdown",
   "metadata": {},
   "source": [
    "Comparar el resultado obtenido con el metodo iterativo utilizando una distribucion equiprobable para la probabilidad inicial. Para realizar la comparaci´on, graficar la diferencia absoluta entre $p_{t}$ y $p^*$ para valores de t hasta ver que converge."
   ]
  },
  {
   "attachments": {},
   "cell_type": "markdown",
   "metadata": {},
   "source": [
    "### Metodo Iterativo"
   ]
  },
  {
   "attachments": {},
   "cell_type": "markdown",
   "metadata": {},
   "source": [
    "$p^* = \\frac{1 - d}{N} \\mathbf{1} + d \\mathbf{W}\\mathbf{D}p^*$"
   ]
  },
  {
   "cell_type": "code",
   "execution_count": 5,
   "metadata": {},
   "outputs": [
    {
     "ename": "AttributeError",
     "evalue": "'Nodo' object has no attribute 'raiz'",
     "output_type": "error",
     "traceback": [
      "\u001b[0;31m---------------------------------------------------------------------------\u001b[0m",
      "\u001b[0;31mAttributeError\u001b[0m                            Traceback (most recent call last)",
      "Cell \u001b[0;32mIn[5], line 23\u001b[0m\n\u001b[1;32m     20\u001b[0m \u001b[39mfor\u001b[39;00m t \u001b[39min\u001b[39;00m \u001b[39mrange\u001b[39m(max_iteraciones):\n\u001b[1;32m     21\u001b[0m     p_previo \u001b[39m=\u001b[39m p\u001b[39m.\u001b[39m__copy__()\n\u001b[0;32m---> 23\u001b[0m     dWDP_t \u001b[39m=\u001b[39m dWD \u001b[39m@\u001b[39m p_previo\n\u001b[1;32m     24\u001b[0m     p \u001b[39m=\u001b[39m parte_div \u001b[39m*\u001b[39m unos \u001b[39m+\u001b[39m dWDP_t\n\u001b[1;32m     26\u001b[0m     \u001b[39m# Calcular la diferencia absoluta entre p y p*\u001b[39;00m\n",
      "File \u001b[0;32m~/Desktop/GS/DITELLA/METODOS/TP1-MetodosComputacionales/matricesRalas.py:278\u001b[0m, in \u001b[0;36mMatrizRala.__matmul__\u001b[0;34m(self, other)\u001b[0m\n\u001b[1;32m    276\u001b[0m     \u001b[39mraise\u001b[39;00m \u001b[39mValueError\u001b[39;00m(\u001b[39m\"\u001b[39m\u001b[39mMatrices no compatibles\u001b[39m\u001b[39m\"\u001b[39m)\n\u001b[1;32m    277\u001b[0m resultado \u001b[39m=\u001b[39m MatrizRala(\u001b[39mself\u001b[39m\u001b[39m.\u001b[39mshape[\u001b[39m0\u001b[39m],other\u001b[39m.\u001b[39mshape[\u001b[39m1\u001b[39m])\n\u001b[0;32m--> 278\u001b[0m other_t \u001b[39m=\u001b[39m other\u001b[39m.\u001b[39mt()\n\u001b[1;32m    279\u001b[0m \u001b[39m# print(\"Ya hice la transouesta\")\u001b[39;00m\n\u001b[1;32m    280\u001b[0m cantFilas \u001b[39m=\u001b[39m \u001b[39mlen\u001b[39m(\u001b[39mself\u001b[39m\u001b[39m.\u001b[39mfilas)\n",
      "File \u001b[0;32m~/Desktop/GS/DITELLA/METODOS/TP1-MetodosComputacionales/matricesRalas.py:402\u001b[0m, in \u001b[0;36mMatrizRala.t\u001b[0;34m(self)\u001b[0m\n\u001b[1;32m    400\u001b[0m \u001b[39mfor\u001b[39;00m i \u001b[39min\u001b[39;00m \u001b[39mself\u001b[39m\u001b[39m.\u001b[39mfilas:\n\u001b[1;32m    401\u001b[0m     fila \u001b[39m=\u001b[39m \u001b[39mself\u001b[39m\u001b[39m.\u001b[39mfilas[i]\n\u001b[0;32m--> 402\u001b[0m     nodo \u001b[39m=\u001b[39m fila\u001b[39m.\u001b[39mraiz\n\u001b[1;32m    403\u001b[0m     \u001b[39mwhile\u001b[39;00m nodo:\n\u001b[1;32m    404\u001b[0m         j \u001b[39m=\u001b[39m nodo\u001b[39m.\u001b[39mvalor[\u001b[39m0\u001b[39m]\n",
      "\u001b[0;31mAttributeError\u001b[0m: 'Nodo' object has no attribute 'raiz'"
     ]
    }
   ],
   "source": [
    "#calculo utilizando metodo iterativo \n",
    "\n",
    "# Vector de probabilidades inicial con distribución equiprobable\n",
    "p = MatrizRala.getVectorOne(W.shape[0]) * (1/W.shape[0])\n",
    "    \n",
    "unos = MatrizRala.getVectorOne(W.shape[0])\n",
    "    \n",
    "# Método iterativo\n",
    "tolerancia = 0.000001\n",
    "max_iteraciones = 100\n",
    "diferencias = []\n",
    "diferencias2 = []\n",
    "\n",
    "# Calculos Previos\n",
    "dWD = d * W @ D\n",
    "parte_div = (1 - d) / N\n",
    "\n",
    "tiempo = 0\n",
    "\n",
    "for t in range(max_iteraciones):\n",
    "    p_previo = p.__copy__()\n",
    "    \n",
    "    dWDP_t = dWD @ p_previo\n",
    "    p = parte_div * unos + dWDP_t\n",
    "    \n",
    "    # Calcular la diferencia absoluta entre p y p*\n",
    "    dif = MatrizRala.diffVectors(p,p_previo)\n",
    "    dif2 = MatrizRala.diffVectors(p,p_sol)\n",
    "    \n",
    "    diferencias.append(dif)\n",
    "    diferencias2.append(dif2)\n",
    "\n",
    "    tiempo += 1\n",
    "    \n",
    "    if dif < tolerancia:\n",
    "        print(f\"Convergencia alcanzada en la iteración {t + 1}.\")\n",
    "        print(\"Resultado\")\n",
    "        print(p)\n",
    "        break\n",
    "\n",
    "\n",
    "\n",
    "    "
   ]
  },
  {
   "cell_type": "code",
   "execution_count": null,
   "metadata": {},
   "outputs": [],
   "source": [
    "# Graficar la diferencia absoluta vs. t\n",
    "plt.figure()\n",
    "plt.plot(range(tiempo), diferencias, label='Diferencia Absoluta')\n",
    "plt.xlabel('Iteraciones (t)')\n",
    "plt.ylabel('Diferencia Absoluta')\n",
    "plt.title('Convergencia del Método Iterativo')\n",
    "plt.legend()\n",
    "plt.grid(True)\n",
    "plt.show() \n"
   ]
  },
  {
   "cell_type": "markdown",
   "metadata": {},
   "source": [
    "### Testeando el 4\n"
   ]
  },
  {
   "cell_type": "code",
   "execution_count": null,
   "metadata": {},
   "outputs": [],
   "source": [
    "papers2 = 'papers/papers2.csv'\n",
    "citas2 = 'papers/citas2.csv'\n",
    "W,W_t = MatrizRala.getW(papers2,citas2)\n",
    "\n",
    "print(W.shape[0])\n"
   ]
  },
  {
   "cell_type": "code",
   "execution_count": null,
   "metadata": {},
   "outputs": [],
   "source": [
    "D = W_t.getD()"
   ]
  },
  {
   "cell_type": "code",
   "execution_count": null,
   "metadata": {},
   "outputs": [],
   "source": [
    "def convergencia(d,W,D):\n",
    "    \n",
    "    epsilon = 0.00000000000001\n",
    "    \n",
    "    N = W.shape[0]\n",
    "    \n",
    "    #distribucion equiprobable \n",
    "    p_t = MatrizRala.getVectorOne(N) * (1/ N)\n",
    "        \n",
    "    #matriz de unos\n",
    "    unos = MatrizRala.getVectorOne(N)\n",
    "    \n",
    "    diff_abs = []\n",
    "    contador = 0    \n",
    "    diff = 1\n",
    "    parte_div = (1 - d) / N\n",
    "    # print(W)\n",
    "    # print(D)\n",
    "    WD = W.mul_daig(D)\n",
    "    # print(\"WD\")\n",
    "    # print(WD)\n",
    "    dWD = d * WD\n",
    "    #print(dWD)\n",
    "\n",
    "    while diff > epsilon:\n",
    "        \n",
    "        if contador == 0:\n",
    "            dWDP_t = dWD.mul_con_vec_col(p_t)\n",
    "            p_t_mas1 = parte_div * unos + dWDP_t\n",
    "        else:        \n",
    "            dWDP_t = dWD.mul_con_vec_col(p_t_mas1)\n",
    "            p_t_mas1 = parte_div * unos + dWDP_t\n",
    "            \n",
    "        print(p_t_mas1)\n",
    "        print(p_t)\n",
    "        \n",
    "        #calcular la diferencia con p* osea seria entre p* o p_t\n",
    "        diff = MatrizRala.diffVectors(p_t_mas1,p_t) \n",
    "        diff_abs.append(diff)\n",
    "        contador +=1 \n",
    "        print(diff)\n",
    "   \n",
    "    \n",
    "    return contador, diff_abs, p_t_mas1"
   ]
  },
  {
   "cell_type": "code",
   "execution_count": null,
   "metadata": {},
   "outputs": [],
   "source": [
    "contador, diff_abs, p_t_mas1 = convergencia(0.85,W,D)"
   ]
  },
  {
   "cell_type": "code",
   "execution_count": null,
   "metadata": {},
   "outputs": [],
   "source": [
    "print(p_t_mas1.sum())"
   ]
  },
  {
   "attachments": {},
   "cell_type": "markdown",
   "metadata": {},
   "source": [
    "# Tests Rapidos"
   ]
  },
  {
   "cell_type": "code",
   "execution_count": null,
   "metadata": {},
   "outputs": [],
   "source": [
    "vector = MatrizRala.getVectorOne(10)\n",
    "for i in range(10):\n",
    "    vector[i,0] = i\n",
    "# print(vector)\n",
    "vectorNumpy = vector.toNumpy()\n",
    "# ordenar de mayor a menor\n",
    "argSort = np.argsort(vectorNumpy, axis=0)[::-1]# ordena de mayor a menor\n",
    "vectorNumpy = np.sort(vectorNumpy, axis=0)[::-1]\n",
    "\n",
    "# print(argSort)\n",
    "\n",
    "vectorNumpy\n",
    "vectorRala = MatrizRala.fromNumpy(vectorNumpy)\n",
    "print(vectorRala)"
   ]
  },
  {
   "cell_type": "code",
   "execution_count": null,
   "metadata": {},
   "outputs": [],
   "source": [
    "import numpy as np\n",
    "import matplotlib.pyplot as plt\n",
    "from matricesRalas_ve import *\n",
    "import itertools\n",
    "papers = 'papers/papers.csv'\n",
    "citas = 'papers/citas.csv'\n",
    "citas2 = 'papers/citas2.csv'\n",
    "\n",
    "W = MatrizRala.getW(papers,citas2)\n",
    "print(len(W.filas.keys()))\n",
    "# fila_i = W.filas.values().__iter__().__next__()\n",
    "# print(fila_i)\n",
    "# filas = W.filas\n",
    "# for i in filas:\n",
    "#     print(i)\n",
    "#     print(type(i))\n",
    "#     print(W.filas[436404])\n",
    "#     break\n",
    "\n",
    "W[3,2]\n",
    "\n",
    "\n"
   ]
  },
  {
   "attachments": {},
   "cell_type": "markdown",
   "metadata": {},
   "source": [
    "## W D y Paralelismo"
   ]
  },
  {
   "cell_type": "code",
   "execution_count": null,
   "metadata": {},
   "outputs": [],
   "source": [
    "from multiprocess import Manager,Pool,cpu_count\n",
    "import sys\n",
    "sys.setrecursionlimit(22000)  \n",
    "def dividir_diccionario(dic, n):\n",
    "    \"\"\"Divide el diccionario en n partes aproximadamente iguales.\"\"\"\n",
    "    print(f\"CANT KEYS: {len(dic.keys())}\")\n",
    "    it = iter(dic)\n",
    "    tamaño = len(dic)\n",
    "    tamaño_parte = tamaño // n + (tamaño % n > 0)  # Determina el tamaño de cada parte, ajustando para que sean aproximadamente iguales\n",
    "    partes = []\n",
    "    for i in range(n):\n",
    "        # Toma una porción del tamaño calculado del iterador\n",
    "        parte = {k: dic[k] for k in itertools.islice(it, tamaño_parte)}\n",
    "        partes.append(parte)\n",
    "    return partes\n",
    "\n",
    "def procesar_fragmento_diccionario(shared_dict,fragmento):\n",
    "    # Supongamos que queremos contar cuántos valores cumplen cierta condición\n",
    "    contador = 0\n",
    "    for key in fragmento.keys():\n",
    "        contador = 0\n",
    "        fila = fragmento[key]\n",
    "        nodo = fila.raiz\n",
    "        while nodo:\n",
    "            if(nodo.valor[1] == 1):\n",
    "                contador += 1\n",
    "            nodo = nodo.siguiente\n",
    "        # Agregar contador a la matriz: mat_D[key,key] = contador\n",
    "        if(contador != 0):\n",
    "            shared_dict[key] = 1/contador\n",
    "    \n",
    "    #     if cumple_condicion(value):  # Define tu propia condición\n",
    "    #         contador += 1\n",
    "    # return contador\n",
    "\n",
    "def D_with_readCsvMultithread(W):\n",
    "    n_cpu = cpu_count()\n",
    "    m,n = W.shape\n",
    "    \n",
    "    chunks: list = dividir_diccionario(W.filas,n_cpu)\n",
    "    D = MatrizRala(m,n)\n",
    "    for chunk in chunks:\n",
    "        print(len(chunk))\n",
    "    with Manager() as manager:\n",
    "        print(\"LLEGUE\")\n",
    "        shared_dict = manager.dict()\n",
    "        with Pool(n_cpu) as pool:\n",
    "            pool.starmap(procesar_fragmento_diccionario,[(shared_dict,chunks[i]) for i in range(len(chunks))])\n",
    "        \n",
    "        for key, value in shared_dict.items():\n",
    "            D[key,key] = value\n",
    "    return D\n",
    "\n",
    "D = D_with_readCsvMultithread(W)\n",
    "\n"
   ]
  },
  {
   "cell_type": "code",
   "execution_count": null,
   "metadata": {},
   "outputs": [],
   "source": [
    "i = 629634\n",
    "fila_i = D.filas[i]\n",
    "print(fila_i)\n",
    "len(D.filas.keys())"
   ]
  },
  {
   "cell_type": "code",
   "execution_count": null,
   "metadata": {},
   "outputs": [],
   "source": [
    "\n",
    "\n",
    "\n",
    "\n",
    "top_10 = np.zeros(10)\n",
    "top_10_index = np.zeros(10, dtype=float)\n",
    "\n",
    "for i in range(W.shape[0]):\n",
    "    v = D[i,i]\n",
    "    if v > top_10[0]:  # Si v es mayor que el más pequeño en top_10\n",
    "        top_10[0] = v\n",
    "        top_10_index[0] = i\n",
    "        sort_indices = np.argsort(top_10)  # Ordena y obtiene índices\n",
    "        top_10 = top_10[sort_indices]  # Reordena top_10\n",
    "        top_10_index = top_10_index[sort_indices]  # Reordena los índices de acuerdo a top_10\n",
    "\n",
    "print(top_10,\"\\n\",top_10_index)"
   ]
  },
  {
   "cell_type": "code",
   "execution_count": null,
   "metadata": {},
   "outputs": [],
   "source": [
    "fila_max = W.filas[top_10_index[-1]]\n",
    "contador = 0\n",
    "nodo = fila_max.raiz\n",
    "while nodo:\n",
    "    contador += 1\n",
    "    nodo = nodo.siguiente\n",
    "print(contador)"
   ]
  },
  {
   "cell_type": "code",
   "execution_count": null,
   "metadata": {},
   "outputs": [],
   "source": [
    "i = 629634 + 1\n",
    "# fila_i = D.filas[i]\n",
    "# print(fila_i)\n",
    "# len(D.filas.keys())\n",
    "i in W.filas.keys()"
   ]
  },
  {
   "cell_type": "code",
   "execution_count": null,
   "metadata": {},
   "outputs": [],
   "source": [
    "from matricesRalas_ve import *\n",
    "\n",
    "A = MatrizRala(3,3)\n",
    "A[0,0] = 1\n",
    "A[0,0]"
   ]
  },
  {
   "attachments": {},
   "cell_type": "markdown",
   "metadata": {},
   "source": [
    "# Guido\n"
   ]
  },
  {
   "cell_type": "code",
   "execution_count": 10,
   "metadata": {},
   "outputs": [
    {
     "name": "stdout",
     "output_type": "stream",
     "text": [
      "[[0. 0. 1. 1. 1. 0. 0. 0. 0. 0. 0.]\n",
      " [1. 0. 0. 0. 0. 0. 0. 0. 0. 0. 0.]\n",
      " [0. 0. 0. 0. 0. 0. 0. 0. 0. 0. 0.]\n",
      " [0. 0. 0. 0. 0. 0. 0. 0. 0. 0. 0.]\n",
      " [0. 0. 0. 0. 0. 0. 0. 0. 0. 0. 1.]\n",
      " [1. 0. 0. 0. 0. 0. 1. 0. 0. 0. 0.]\n",
      " [0. 0. 0. 0. 0. 0. 0. 1. 1. 0. 0.]\n",
      " [0. 0. 0. 0. 0. 0. 0. 0. 1. 0. 0.]\n",
      " [0. 0. 0. 0. 0. 1. 0. 0. 0. 0. 0.]\n",
      " [0. 0. 0. 0. 0. 0. 0. 0. 1. 0. 0.]\n",
      " [0. 0. 0. 0. 0. 0. 0. 0. 0. 0. 0.]]\n"
     ]
    }
   ],
   "source": [
    "W = np.zeros((11,11))\n",
    "\n",
    "\n",
    "# CITAS A-0\n",
    "W[0,2] = 1\n",
    "W[0,3] = 1\n",
    "W[0,4] = 1\n",
    "\n",
    "# CITAS B-1\n",
    "W[1,0] = 1\n",
    "\n",
    "# CITAS C-2\n",
    "\n",
    "# CITAS D-3\n",
    "\n",
    "# CITAS E-4\n",
    "W[4,10] = 1\n",
    "\n",
    "# CITAS F-5\n",
    "W[5,0] = 1\n",
    "W[5,6] = 1\n",
    "\n",
    "# CITAS G-6\n",
    "W[6,7] = 1\n",
    "W[6,8] = 1\n",
    "\n",
    "# CITAS H-7\n",
    "W[7,8] = 1\n",
    "\n",
    "# CITAS I-8\n",
    "W[8,5] = 1\n",
    "\n",
    "# CITAS J-9\n",
    "W[9,8] = 1\n",
    "\n",
    "\n",
    "# CITAS K-10\n",
    "\n",
    "print(W)\n",
    "\n"
   ]
  },
  {
   "cell_type": "code",
   "execution_count": 15,
   "metadata": {},
   "outputs": [
    {
     "name": "stdout",
     "output_type": "stream",
     "text": [
      "[[3. 0. 0. 0. 0. 0. 0. 0. 0. 0. 0.]\n",
      " [0. 3. 0. 0. 0. 0. 0. 0. 0. 0. 0.]\n",
      " [0. 0. 3. 0. 0. 0. 0. 0. 0. 0. 0.]\n",
      " [0. 0. 0. 3. 0. 0. 0. 0. 0. 0. 0.]\n",
      " [0. 0. 0. 0. 3. 0. 0. 0. 0. 0. 0.]\n",
      " [0. 0. 0. 0. 0. 3. 0. 0. 0. 0. 0.]\n",
      " [0. 0. 0. 0. 0. 0. 3. 0. 0. 0. 0.]\n",
      " [0. 0. 0. 0. 0. 0. 0. 3. 0. 0. 0.]\n",
      " [0. 0. 0. 0. 0. 0. 0. 0. 3. 0. 0.]\n",
      " [0. 0. 0. 0. 0. 0. 0. 0. 0. 3. 0.]\n",
      " [0. 0. 0. 0. 0. 0. 0. 0. 0. 0. 3.]]\n"
     ]
    }
   ],
   "source": [
    "D = np.zeros_like(W)\n",
    "\n",
    "for i in range(len(D[0])):\n",
    "    D[i,i] = sum(W[i])\n",
    "\n",
    "print(D)"
   ]
  }
 ],
 "metadata": {
  "kernelspec": {
   "display_name": "base",
   "language": "python",
   "name": "python3"
  },
  "language_info": {
   "codemirror_mode": {
    "name": "ipython",
    "version": 3
   },
   "file_extension": ".py",
   "mimetype": "text/x-python",
   "name": "python",
   "nbconvert_exporter": "python",
   "pygments_lexer": "ipython3",
   "version": "3.12.1"
  },
  "vscode": {
   "interpreter": {
    "hash": "588a077454552c0b608c7a75f739e0012bc0a6317cbb2228f1831255df17ce82"
   }
  }
 },
 "nbformat": 4,
 "nbformat_minor": 2
}
