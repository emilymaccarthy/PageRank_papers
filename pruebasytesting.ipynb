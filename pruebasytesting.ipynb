{
 "cells": [
  {
   "cell_type": "markdown",
   "metadata": {},
   "source": [
    "# Tests Rapidos"
   ]
  },
  {
   "cell_type": "code",
   "execution_count": null,
   "metadata": {},
   "outputs": [],
   "source": [
    "vector = MatrizRala.getVectorOne(10)\n",
    "for i in range(10):\n",
    "    vector[i,0] = i\n",
    "# print(vector)\n",
    "vectorNumpy = vector.toNumpy()\n",
    "# ordenar de mayor a menor\n",
    "argSort = np.argsort(vectorNumpy, axis=0)[::-1]# ordena de mayor a menor\n",
    "vectorNumpy = np.sort(vectorNumpy, axis=0)[::-1]\n",
    "\n",
    "# print(argSort)\n",
    "\n",
    "vectorNumpy\n",
    "vectorRala = MatrizRala.fromNumpy(vectorNumpy)\n",
    "print(vectorRala)"
   ]
  },
  {
   "cell_type": "code",
   "execution_count": null,
   "metadata": {},
   "outputs": [
    {
     "name": "stdout",
     "output_type": "stream",
     "text": [
      "N: = 629814\n"
     ]
    }
   ],
   "source": [
    "import numpy as np\n",
    "import matplotlib.pyplot as plt\n",
    "from matricesRalas import *\n",
    "import itertools\n",
    "papers = 'papers/papers.csv'\n",
    "citas = 'papers/citas.csv'\n",
    "citas2 = 'papers/citas2.csv'\n",
    "\n",
    "W = MatrizRala.getW(papers,citas)"
   ]
  },
  {
   "cell_type": "code",
   "execution_count": null,
   "metadata": {},
   "outputs": [],
   "source": [
    "Wt = W.t()"
   ]
  },
  {
   "cell_type": "markdown",
   "metadata": {},
   "source": [
    "## W D y Paralelismo"
   ]
  },
  {
   "cell_type": "code",
   "execution_count": null,
   "metadata": {},
   "outputs": [
    {
     "ename": "ModuleNotFoundError",
     "evalue": "No module named 'multiprocess'",
     "output_type": "error",
     "traceback": [
      "\u001b[1;31m---------------------------------------------------------------------------\u001b[0m\n",
      "\u001b[1;31mModuleNotFoundError\u001b[0m                       Traceback (most recent call last)\n",
      "Cell \u001b[1;32mIn[27], line 1\u001b[0m\n",
      "\u001b[1;32m----> 1\u001b[0m \u001b[38;5;28;01mfrom\u001b[39;00m \u001b[38;5;21;01mmultiprocess\u001b[39;00m \u001b[38;5;28;01mimport\u001b[39;00m Manager,Pool,cpu_count\n",
      "\u001b[0;32m      2\u001b[0m \u001b[38;5;28;01mimport\u001b[39;00m \u001b[38;5;21;01msys\u001b[39;00m\n",
      "\u001b[0;32m      3\u001b[0m sys\u001b[38;5;241m.\u001b[39msetrecursionlimit(\u001b[38;5;241m22000\u001b[39m)  \n",
      "\n",
      "\u001b[1;31mModuleNotFoundError\u001b[0m: No module named 'multiprocess'"
     ]
    }
   ],
   "source": [
    "from multiprocess import Manager,Pool,cpu_count\n",
    "import sys\n",
    "sys.setrecursionlimit(22000)  \n",
    "def dividir_diccionario(dic, n):\n",
    "    \"\"\"Divide el diccionario en n partes aproximadamente iguales.\"\"\"\n",
    "    print(f\"CANT KEYS: {len(dic.keys())}\")\n",
    "    it = iter(dic)\n",
    "    tamaño = len(dic)\n",
    "    tamaño_parte = tamaño // n + (tamaño % n > 0)  # Determina el tamaño de cada parte, ajustando para que sean aproximadamente iguales\n",
    "    partes = []\n",
    "    for i in range(n):\n",
    "        # Toma una porción del tamaño calculado del iterador\n",
    "        parte = {k: dic[k] for k in itertools.islice(it, tamaño_parte)}\n",
    "        partes.append(parte)\n",
    "    return partes\n",
    "\n",
    "def procesar_fragmento_diccionario(shared_dict,fragmento):\n",
    "    # Supongamos que queremos contar cuántos valores cumplen cierta condición\n",
    "    contador = 0\n",
    "    for key in fragmento.keys():\n",
    "        contador = 0\n",
    "        fila = fragmento[key]\n",
    "        nodo = fila.raiz\n",
    "        while nodo:\n",
    "            if(nodo.valor[1] == 1):\n",
    "                contador += 1\n",
    "            nodo = nodo.siguiente\n",
    "        # Agregar contador a la matriz: mat_D[key,key] = contador\n",
    "        if(contador != 0):\n",
    "            shared_dict[key] = 1/contador\n",
    "    \n",
    "    #     if cumple_condicion(value):  # Define tu propia condición\n",
    "    #         contador += 1\n",
    "    # return contador\n",
    "\n",
    "def D_with_readCsvMultithread(W):\n",
    "    n_cpu = cpu_count()\n",
    "    m,n = W.shape\n",
    "    \n",
    "    chunks: list = dividir_diccionario(W.filas,n_cpu)\n",
    "    D = MatrizRala(m,n)\n",
    "    for chunk in chunks:\n",
    "        print(len(chunk))\n",
    "    with Manager() as manager:\n",
    "        print(\"LLEGUE\")\n",
    "        shared_dict = manager.dict()\n",
    "        with Pool(n_cpu) as pool:\n",
    "            pool.starmap(procesar_fragmento_diccionario,[(shared_dict,chunks[i]) for i in range(len(chunks))])\n",
    "        \n",
    "        for key, value in shared_dict.items():\n",
    "            D[key,key] = value\n",
    "    return D\n",
    "\n",
    "D = D_with_readCsvMultithread(W)\n",
    "\n"
   ]
  },
  {
   "cell_type": "code",
   "execution_count": null,
   "metadata": {},
   "outputs": [],
   "source": [
    "i = 629634\n",
    "fila_i = D.filas[i]\n",
    "print(fila_i)\n",
    "len(D.filas.keys())"
   ]
  },
  {
   "cell_type": "code",
   "execution_count": null,
   "metadata": {},
   "outputs": [],
   "source": [
    "\n",
    "\n",
    "\n",
    "\n",
    "top_10 = np.zeros(10)\n",
    "top_10_index = np.zeros(10, dtype=float)\n",
    "\n",
    "for i in range(W.shape[0]):\n",
    "    v = D[i,i]\n",
    "    if v > top_10[0]:  # Si v es mayor que el más pequeño en top_10\n",
    "        top_10[0] = v\n",
    "        top_10_index[0] = i\n",
    "        sort_indices = np.argsort(top_10)  # Ordena y obtiene índices\n",
    "        top_10 = top_10[sort_indices]  # Reordena top_10\n",
    "        top_10_index = top_10_index[sort_indices]  # Reordena los índices de acuerdo a top_10\n",
    "\n",
    "print(top_10,\"\\n\",top_10_index)"
   ]
  },
  {
   "cell_type": "code",
   "execution_count": null,
   "metadata": {},
   "outputs": [],
   "source": [
    "fila_max = W.filas[top_10_index[-1]]\n",
    "contador = 0\n",
    "nodo = fila_max.raiz\n",
    "while nodo:\n",
    "    contador += 1\n",
    "    nodo = nodo.siguiente\n",
    "print(contador)"
   ]
  },
  {
   "cell_type": "code",
   "execution_count": null,
   "metadata": {},
   "outputs": [],
   "source": [
    "i = 629634 + 1\n",
    "# fila_i = D.filas[i]\n",
    "# print(fila_i)\n",
    "# len(D.filas.keys())\n",
    "i in W.filas.keys()"
   ]
  },
  {
   "cell_type": "code",
   "execution_count": null,
   "metadata": {},
   "outputs": [],
   "source": [
    "from matricesRalas import *\n",
    "\n",
    "A = MatrizRala(3,3)\n",
    "A[0,0] = 1\n",
    "A[0,0]"
   ]
  },
  {
   "cell_type": "markdown",
   "metadata": {},
   "source": [
    "## matmul"
   ]
  },
  {
   "cell_type": "code",
   "execution_count": null,
   "metadata": {},
   "outputs": [],
   "source": [
    "\n",
    "    # def __matmul__( self, other ):\n",
    "    #     # Esta funcion implementa el producto matricial (notado en Python con el operador \"@\" ) -> A @ B\n",
    "        \n",
    "    #     if self.shape[1] != other.shape[0]:\n",
    "    #         raise ValueError(\"los tamaños no se pueden multiplicar\")\n",
    "        \n",
    "    #     resultado = MatrizRala(self.shape[0],other.shape[1])\n",
    "    #     cantFilas = len(self.filas)\n",
    "    #     cont_i = 0\n",
    "    #     #para todas las filas de self \n",
    "    #     for current_i in self.filas: #valor de m\n",
    "    #         cont_i += 1\n",
    "            \n",
    "    #         #agarro el raiz de la fila \n",
    "    #         fila = self.filas[current_i]\n",
    "    #         if fila.raiz:\n",
    "    #             rootNode_self = fila.raiz\n",
    "    #             for j in range(other.shape[1]):\n",
    "    #                 currentNode = rootNode_self\n",
    "    #                 suma = 0\n",
    "    #                 while currentNode is not None:\n",
    "                        \n",
    "    #                     current_j = currentNode.valor[0]\n",
    "    #                     suma += currentNode.valor[1] * other[current_j,j]\n",
    "    #                     currentNode = currentNode.siguiente\n",
    "\n",
    "    #                 resultado[current_i,j] = suma\n",
    "    #         # else:\n",
    "    #         #     resultado[current_i,j] = 0\n",
    "\n"
   ]
  },
  {
   "cell_type": "code",
   "execution_count": null,
   "metadata": {},
   "outputs": [],
   "source": [
    " def __copy__(self):\n",
    "        resultado = MatrizRala(self.shape[0],self.shape[1])\n",
    "        for i in self.filas:\n",
    "            \n",
    "            fila = self.filas[i]\n",
    "            nodo = fila.raiz\n",
    "            #si hay algo en la lista\n",
    "            if nodo is not None:\n",
    "                \n",
    "                #creo una lista enlazada \n",
    "                resultado.filas[i] = ListaEnlazada.Nodo(nodo.valor, None)  \n",
    "                #guardo la posicion del nodo nuevo\n",
    "                nuevo_nodo = resultado.filas[i]\n",
    "                #voy al proximo elemento de la lista que estoy copiando\n",
    "                nodo_actual = nodo.siguiente\n",
    "                while nodo_actual is not None:\n",
    "                    #el push agrega el valor del sigueinte nodo en la lista al final de la lista \n",
    "                    nuevo_nodo.push(nodo_actual.valor)  \n",
    "                    #voy al siguiente nodo que se acaba de guarda\n",
    "                    nuevo_nodo = nuevo_nodo.siguiente\n",
    "                    #acanzo uno mas en la lissta og \n",
    "                    nodo_actual = nodo_actual.siguiente\n",
    "          \n",
    "            # for j in range(self.shape[1]):\n",
    "            #     resultado[i,j] = self[i,j]\n",
    "                \n",
    "        return resultado"
   ]
  },
  {
   "cell_type": "code",
   "execution_count": null,
   "metadata": {},
   "outputs": [
    {
     "name": "stdout",
     "output_type": "stream",
     "text": [
      "N: = 629814\n"
     ]
    }
   ],
   "source": [
    "import csv \n",
    "from matricesRalas import *\n",
    "import matplotlib.pyplot as plt\n",
    "\n",
    "#TIEMPO: \n",
    "papers = 'papers/papers.csv'\n",
    "citas = 'papers/citas.csv'\n",
    "\n",
    "\n",
    "W = MatrizRala.getW(papers,citas)\n",
    "\n"
   ]
  },
  {
   "cell_type": "code",
   "execution_count": null,
   "metadata": {},
   "outputs": [],
   "source": [
    "def getW(paperPath:str,citasPath:str):\n",
    "        #tengo que tener agarrar la primer columna entera de papers csv \n",
    "        #cada posicion me da el nuumero del paper = paper + 1\n",
    "        #ahora tengo que linkear cada con citas csv para crear la matriz\n",
    "        #pj cita a pi id1 cita a id2 => W{id2,id1} =  1\n",
    "        #1. crear matriz rala con dimension numero max de citas.csv m y n el mismo numero\n",
    "        #2. recorrer citas csv por cada row ponerle set item (id2,id1) v=1\n",
    "        \n",
    "        #despues seria sobre len(ids)\n",
    "    N = 0 \n",
    "    with open(paperPath,newline='', encoding='utf-8') as csvfile:\n",
    "        reader = csv.reader(csvfile)\n",
    "        next(reader)\n",
    "              \n",
    "        N = sum(1 for row in reader)\n",
    "        csvfile.close()\n",
    "\n",
    "\n",
    "    print(f\"N: = {N}\")\n",
    "    W = MatrizRala(N,N)\n",
    "\n",
    "    with open(citasPath, newline='') as csvfile:\n",
    "        reader = csv.reader(csvfile)\n",
    "        next(reader) #skipping the header\n",
    "            # print(\"HOLA\")\n",
    "        for row in reader:\n",
    "                # print(row)\n",
    "                # print(\"1\")\n",
    "                #ai existe el 0\n",
    "            to_ = int(row[1])\n",
    "            from_ = int(row[0])\n",
    "                #print(f\" from_ = {from_}, to_ = {to_}\")\n",
    "                # pass\n",
    "            W[to_,from_] = 1\n",
    "        csvfile.close()\n",
    "\n",
    "                \n",
    "    return W\n",
    "\n",
    "            "
   ]
  }
 ],
 "metadata": {
  "language_info": {
   "name": "python"
  }
 },
 "nbformat": 4,
 "nbformat_minor": 2
}
