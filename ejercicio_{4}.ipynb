{
 "cells": [
  {
   "attachments": {},
   "cell_type": "markdown",
   "metadata": {},
   "source": [
    "### Imports"
   ]
  },
  {
   "cell_type": "code",
   "execution_count": 1,
   "metadata": {},
   "outputs": [],
   "source": [
    "import csv \n",
    "from matricesRalas import *\n",
    "import matplotlib.pyplot as plt\n",
    "from tabulate import tabulate\n",
    "\n",
    "\n",
    "PRINT = False\n"
   ]
  },
  {
   "cell_type": "markdown",
   "metadata": {},
   "source": [
    "### W y D"
   ]
  },
  {
   "cell_type": "markdown",
   "metadata": {},
   "source": [
    "Generar las matrices $\\mathbf{W}$ y $\\mathbf{D}$ a partir de la tabla citas.csv. Utilizar matrices ralas."
   ]
  },
  {
   "cell_type": "code",
   "execution_count": 2,
   "metadata": {},
   "outputs": [
    {
     "name": "stdout",
     "output_type": "stream",
     "text": [
      "N: = 629814\n"
     ]
    }
   ],
   "source": [
    "papers = 'papers/papers.csv'\n",
    "citas = 'papers/citas.csv'\n",
    "\n",
    "\n",
    "W = MatrizRala.getW(papers,citas)"
   ]
  },
  {
   "cell_type": "code",
   "execution_count": 3,
   "metadata": {},
   "outputs": [],
   "source": [
    "D:MatrizRala = W.getD()\n",
    "\n",
    "\n",
    "if(PRINT):\n",
    "    print(W,D)\n"
   ]
  },
  {
   "cell_type": "markdown",
   "metadata": {},
   "source": [
    "Debido al tamaño del conjunto de datos, no podemos resolver explıcitamente usando Gauss-Jordan el sistema. Utilizando d = 0,85 y asumiendo una distribucion equiprobable para el tiempo 1, computar pt hasta que la serie converja. Es decir, que la diferencia $∥p_{t+1} − p_{t}∥$ sea menor a cierto $ϵ > 0$."
   ]
  },
  {
   "cell_type": "markdown",
   "metadata": {},
   "source": [
    "### Metodo Iterativo"
   ]
  },
  {
   "cell_type": "code",
   "execution_count": 4,
   "metadata": {},
   "outputs": [
    {
     "name": "stdout",
     "output_type": "stream",
     "text": [
      "helo\n"
     ]
    }
   ],
   "source": [
    "d = 0.85\n",
    "\n",
    "epsilon = 0.0000001\n",
    "    \n",
    "N = W.shape[0]\n",
    "    \n",
    "#distribucion equiprobable \n",
    "p_t = MatrizRala.getVectorOne(N) * (1/ N)\n",
    "\n",
    "#matriz de unos\n",
    "unos = MatrizRala.getVectorOne(N)\n",
    "    \n",
    "diff_abs = []\n",
    "contador = 0    \n",
    "diff = 1\n",
    "parte_div = (1 - d) / N\n",
    "##no metemos la multiplicacion matricial porque tarda mucho, mas facil es usar la funcion que mutpilica una matriz diagonal por derech\n",
    "#WD = W @ D\n",
    "WD = W.mul_daig(D)\n",
    "\n",
    "dWD = d * WD\n",
    "\n",
    "i = 0\n",
    "while diff > epsilon:\n",
    "  \n",
    "    #caculos intermedios\n",
    "    dWDP_t = dWD.xVector(p_t)\n",
    "    \n",
    "    p_t_mas1 = parte_div * unos + dWDP_t\n",
    "    p_t = p_t_mas1\n",
    "        \n",
    "    #calcular la diferencia con p* osea seria entre p* o p_t\n",
    "    diff = MatrizRala.diffVectors(p_t_mas1,p_t) \n",
    "    diff_abs.append(diff)\n",
    "    contador +=1 \n",
    "\n",
    "t = contador\n",
    "diffs = diff_abs \n",
    "p_sol = p_t\n",
    "\n",
    "if(PRINT):\n",
    "    print(f\"Convergencia alcanzada en la iteración {t + 1}.\")\n",
    "    print(\"Resultado\")\n",
    "    print(p_sol)"
   ]
  },
  {
   "cell_type": "markdown",
   "metadata": {},
   "source": [
    "### Sacamos los 10 papers con mayor impacto "
   ]
  },
  {
   "cell_type": "markdown",
   "metadata": {},
   "source": [
    "Armar la lista de los 10 papers con mayor impacto. Comparar los resultados con aquellos obtenidos\n",
    "utilizando unicamente la cantidad de citas. ¿Que conclusiones se pueden sacar?, ¿Que algoritmo parece\n",
    "dar resultados mas satisfactorios?"
   ]
  },
  {
   "cell_type": "code",
   "execution_count": 5,
   "metadata": {},
   "outputs": [],
   "source": [
    "p_solNumpy = p_sol.toNumpy()\n",
    "\n",
    "indices_mayor_menor = np.argsort(p_solNumpy, axis=0)[::-1]\n",
    "p_sol_mayor_menor = p_solNumpy[indices_mayor_menor]"
   ]
  },
  {
   "cell_type": "code",
   "execution_count": 6,
   "metadata": {},
   "outputs": [],
   "source": [
    "def generarIDs(paper):\n",
    "    ids = []\n",
    "    nombres = []\n",
    "    \n",
    "    with open(paper, newline='',encoding='utf-8') as csvfile:\n",
    "        reader = csv.reader(csvfile)\n",
    "        next(reader)\n",
    "        for row in reader:\n",
    "            # ids.append(row[0])\n",
    "            nombres.append(row[1])\n",
    "            # cada posicion de ids nos dice la citacion que vamos a hacer en W\n",
    "    \n",
    "    return nombres"
   ]
  },
  {
   "cell_type": "code",
   "execution_count": 7,
   "metadata": {},
   "outputs": [
    {
     "name": "stderr",
     "output_type": "stream",
     "text": [
      "C:\\Users\\emily\\AppData\\Local\\Temp\\ipykernel_8360\\3912673754.py:6: DeprecationWarning: Conversion of an array with ndim > 0 to a scalar is deprecated, and will error in future. Ensure you extract a single element from your array before performing this operation. (Deprecated NumPy 1.25.)\n",
      "  id:int = int(indices_mayor_menor[i])\n",
      "C:\\Users\\emily\\AppData\\Local\\Temp\\ipykernel_8360\\3912673754.py:9: DeprecationWarning: Conversion of an array with ndim > 0 to a scalar is deprecated, and will error in future. Ensure you extract a single element from your array before performing this operation. (Deprecated NumPy 1.25.)\n",
      "  listPX.append(float(p_sol_mayor_menor[i]))\n"
     ]
    }
   ],
   "source": [
    "list10 = []\n",
    "listID = []\n",
    "listPX = []\n",
    "nombres = generarIDs(papers)\n",
    "for i in range(10):\n",
    "    id:int = int(indices_mayor_menor[i])\n",
    "    listID.append(id)\n",
    "    list10.append(nombres[id])\n",
    "    listPX.append(float(p_sol_mayor_menor[i]))"
   ]
  },
  {
   "cell_type": "code",
   "execution_count": 8,
   "metadata": {},
   "outputs": [
    {
     "name": "stdout",
     "output_type": "stream",
     "text": [
      "Top 10 Papers con Mayor Impacto:\n",
      "+--------+-------------------------------------------------------------------------------+----------------+\n",
      "|     ID | Nombre                                                                        |   Probabilidad |\n",
      "+========+===============================================================================+================+\n",
      "| 453387 | Introduction to algorithms                                                    |    0.000228175 |\n",
      "+--------+-------------------------------------------------------------------------------+----------------+\n",
      "| 246511 | Simulation Modeling and Analysis, 2nd edition                                 |    0.000218868 |\n",
      "+--------+-------------------------------------------------------------------------------+----------------+\n",
      "| 586607 | The nature of statistical learning theory                                     |    0.000212375 |\n",
      "+--------+-------------------------------------------------------------------------------+----------------+\n",
      "|  81323 | The art of computer programming, volume 2 (3rd ed.): seminumerical algorithms |    0.000208554 |\n",
      "+--------+-------------------------------------------------------------------------------+----------------+\n",
      "|  79620 | The art of computer programming, volume 1 (3rd ed.): fundamental algorithms   |    0.000206303 |\n",
      "+--------+-------------------------------------------------------------------------------+----------------+\n",
      "| 214951 | C4.5: programs for machine learning                                           |    0.000184261 |\n",
      "+--------+-------------------------------------------------------------------------------+----------------+\n",
      "| 326368 | A relational model of data for large shared data banks                        |    0.000181436 |\n",
      "+--------+-------------------------------------------------------------------------------+----------------+\n",
      "| 162585 | Compilers: principles, techniques, and tools                                  |    0.000172665 |\n",
      "+--------+-------------------------------------------------------------------------------+----------------+\n",
      "| 311413 | Pattern Classification (2nd Edition)                                          |    0.0001707   |\n",
      "+--------+-------------------------------------------------------------------------------+----------------+\n",
      "| 517247 | Adaptation in natural and artificial systems                                  |    0.000165857 |\n",
      "+--------+-------------------------------------------------------------------------------+----------------+\n"
     ]
    }
   ],
   "source": [
    "\n",
    "data = []\n",
    "for i in range(10):\n",
    "    data.append([listID[i], list10[i], listPX[i]])\n",
    "\n",
    "# Imprimir tabla\n",
    "print(\"Top 10 Papers con Mayor Impacto:\")\n",
    "print(tabulate(data, headers=[\"ID\", \"Nombre\", \"Probabilidad\"], tablefmt=\"grid\"))\n"
   ]
  }
 ],
 "metadata": {
  "kernelspec": {
   "display_name": "base",
   "language": "python",
   "name": "python3"
  },
  "language_info": {
   "codemirror_mode": {
    "name": "ipython",
    "version": 3
   },
   "file_extension": ".py",
   "mimetype": "text/x-python",
   "name": "python",
   "nbconvert_exporter": "python",
   "pygments_lexer": "ipython3",
   "version": "3.12.1"
  },
  "vscode": {
   "interpreter": {
    "hash": "588a077454552c0b608c7a75f739e0012bc0a6317cbb2228f1831255df17ce82"
   }
  }
 },
 "nbformat": 4,
 "nbformat_minor": 2
}
