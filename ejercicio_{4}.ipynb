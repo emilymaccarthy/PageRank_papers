{
 "cells": [
  {
   "attachments": {},
   "cell_type": "markdown",
   "metadata": {},
   "source": [
    "# Imports"
   ]
  },
  {
   "cell_type": "code",
   "execution_count": 17,
   "metadata": {},
   "outputs": [],
   "source": [
    "import csv \n",
    "from matricesRalas import *\n",
    "import matplotlib.pyplot as plt\n"
   ]
  },
  {
   "cell_type": "markdown",
   "metadata": {},
   "source": [
    "### Auxiliares"
   ]
  },
  {
   "cell_type": "markdown",
   "metadata": {},
   "source": [
    "- Calcular diferencia entre vectores(A:MatrizRala, B:MatrizRala)\n",
    "\n",
    "- Build graph(rangex:int, yvalues:List)\n",
    "\n",
    "- Generar identidad(m:int)\n",
    "\n",
    "- Generar inversa(A:MatrizRala)\n",
    "\n",
    "- Generar W(citas:csvfile)\n",
    "\n",
    "- Generar D(W:MatrizRala)\n",
    "\n",
    "- Generar citas(papers:csvfile)\n",
    "\n",
    "- Genrar p_star(W:MatrizRala,D:MatrizRala,d:int)\n",
    "\n",
    "- Convergencia(d:int,W:MatrizRala,D:MatrizRala)"
   ]
  },
  {
   "cell_type": "code",
   "execution_count": 2,
   "metadata": {},
   "outputs": [],
   "source": [
    "def calcular_diferencia_entre_vectores(A:MatrizRala, B:MatrizRala):\n",
    "    \n",
    "    # Verificar que los vectores tengan la misma longitud\n",
    "    if A.shape[0] != B.shape[0]:\n",
    "        raise ValueError(\"Los vectores deben tener la misma longitud.\")\n",
    "    \n",
    "    # Calcular la norma L1 de la diferencia entre los vectores\n",
    "    dif = 0\n",
    "    for i in range(A.shape[0]):\n",
    "        diferencia_absoluta = abs(A[i,0] - B[i,0])\n",
    "        dif += diferencia_absoluta\n",
    "    \n",
    "    return dif"
   ]
  },
  {
   "cell_type": "code",
   "execution_count": 3,
   "metadata": {},
   "outputs": [],
   "source": [
    "def build_graph(rangex:int, y_axis):\n",
    "    # Graficar la diferencia absoluta vs. t\n",
    "    plt.figure()\n",
    "    plt.plot(range(rangex), y_axis, label='Diferencia Absoluta')\n",
    "    plt.xlabel('Iteraciones (t)')\n",
    "    plt.ylabel('Diferencia Absoluta')\n",
    "    plt.title('Convergencia del Método Iterativo')\n",
    "    plt.legend()\n",
    "    plt.grid(True)\n",
    "    plt.show() "
   ]
  },
  {
   "cell_type": "code",
   "execution_count": 4,
   "metadata": {},
   "outputs": [],
   "source": [
    "def generar_idt(m:int):\n",
    "    \n",
    "    B = MatrizRala(m,m)\n",
    "    \n",
    "    for i in range(m):\n",
    "        B.__setitem__((i,i),1)\n",
    "    \n",
    "    return B\n",
    "            \n",
    "def generar_inv(A): \n",
    "    if A.shape[0] != A.shape[1]:\n",
    "        raise ValueError(\"la matriz no es cuadrada\")\n",
    "        \n",
    "    identidad = generar_idt(A.shape[0])\n",
    "    resultado = MatrizRala(A.shape[0],A.shape[0])\n",
    "        \n",
    "    for i in range(A.shape[0]):\n",
    "        for j in range(A.shape[0]):\n",
    "            resultado[i,j] = A[i,j]\n",
    "        \n",
    "    for i in range(A.shape[0]):\n",
    "        factor = 1.0 / A[i,i]\n",
    "            \n",
    "        for j in range(A.shape[0]):\n",
    "            resultado[i,j] *= factor\n",
    "            identidad[i,j] *= factor\n",
    "                \n",
    "        for k in range(A.shape[0]):\n",
    "            if k!=i:\n",
    "                factor = resultado[k,i]\n",
    "                    \n",
    "                for j in range(A.shape[0]):\n",
    "                    resultado[k,j] -= factor*resultado[i,j]\n",
    "                    identidad[k,j] -= factor*identidad[i,j]\n",
    "                        \n",
    "    return identidad   "
   ]
  },
  {
   "cell_type": "code",
   "execution_count": 5,
   "metadata": {},
   "outputs": [],
   "source": [
    "def generarW(citas):\n",
    "    #tengo que tener agarrar la primer columna entera de papers csv \n",
    "    #cada posicion me da el nuumero del paper = paper + 1\n",
    "    #ahora tengo que linkear cada con citas csv para crear la matriz\n",
    "    #pj cita a pi id1 cita a id2 => W{id2,id1} =  1\n",
    "    #1. crear matriz rala con dimension numero max de citas.csv m y n el mismo numero\n",
    "    #2. recorrer citas csv por cada row ponerle set item (id2,id1) v=1\n",
    "    \n",
    "    #despues seria sobre len(ids)\n",
    "    W = MatrizRala(20,20)  \n",
    "          \n",
    "    with open(citas, newline='') as csvfile:\n",
    "        reader = csv.reader(csvfile)\n",
    "        next(reader) #skipping the header\n",
    "        for row in reader:\n",
    "            #no existe el 0 en el papaer numero 1 2 3 4 5 etc\n",
    "            id2 = int(row[1])-1\n",
    "            id1 = int(row[0])-1\n",
    "            W.__setitem__((id2,id1),1)\n",
    "            \n",
    "    return W\n",
    "            "
   ]
  },
  {
   "cell_type": "code",
   "execution_count": 6,
   "metadata": {},
   "outputs": [],
   "source": [
    "def generarD(W:MatrizRala):\n",
    "    resultado = MatrizRala(W.shape[0],W.shape[1])\n",
    "    \n",
    "    for i in range(W.shape[0]):\n",
    "        cantidad_1s = 0\n",
    "        for j in range(W.shape[0]):\n",
    "            if W[i,j] == 1:\n",
    "                cantidad_1s += 1\n",
    "        if cantidad_1s != 0:\n",
    "            resultado[i,i] = 1/cantidad_1s\n",
    "        \n",
    "    return resultado"
   ]
  },
  {
   "cell_type": "code",
   "execution_count": 7,
   "metadata": {},
   "outputs": [],
   "source": [
    "#ids de papers \n",
    "def generarIDs(paper):\n",
    "    ids = []\n",
    "    nombres = []\n",
    "    \n",
    "    with open(paper, newline='',encoding='utf-8') as csvfile:\n",
    "        reader = csv.reader(csvfile)\n",
    "        next(reader)\n",
    "        for row in reader:\n",
    "            ids.append(row[0])\n",
    "            nombres.append(row[1])\n",
    "            # cada posicion de ids nos dice la citacion que vamos a hacer en W\n",
    "    \n",
    "    return ids,nombres"
   ]
  },
  {
   "cell_type": "code",
   "execution_count": 8,
   "metadata": {},
   "outputs": [],
   "source": [
    "# METODO GAUSS\n",
    "def generarP_star(W,D,d):\n",
    "    N = W.shape[0]\n",
    "    \n",
    "    I = generar_idt(N)\n",
    " \n",
    "    \n",
    "    C = W @ D\n",
    "    # print(C)\n",
    "  \n",
    "    A = I - (C * d)\n",
    "    # print(\"A\")\n",
    "    # print(A)\n",
    "    \n",
    "    #tengo que crear la funcion que haga una matriz inversa\n",
    "    #la funcion para hacer la inversa es bastane compleja osea va a taradar demasiado\n",
    "    A_1 = generar_inv(A)\n",
    "    # print(\"A_1\")\n",
    "    # print(A_1)\n",
    "\n",
    "    unos = MatrizRala(W.shape[0],1)\n",
    "\n",
    "    for i in range(unos.shape[0]):\n",
    "        unos[i,0] = 1\n",
    "        \n",
    "    ##nose si es por unos o por identidad <- es por unos:guido\n",
    "    b = ((1-d)/N)*unos\n",
    "    # print(\"b\")\n",
    "    # print(b)\n",
    "    ##sino es hacer solo una vez con gauss jordan \n",
    "    \n",
    "    p_star = A_1 @ b\n",
    "   \n",
    "    \n",
    "    return p_star\n"
   ]
  },
  {
   "cell_type": "code",
   "execution_count": 16,
   "metadata": {},
   "outputs": [],
   "source": [
    "def convergencia(d,W,D):\n",
    "    \n",
    "    epsilon = 0.000000000000000000000001\n",
    "    \n",
    "    N = W.shape[0]\n",
    "    \n",
    "    #distribucion equiprobable \n",
    "    p_t = MatrizRala(N,1) \n",
    "    for i in range(N):\n",
    "        p_t[i,0] = 1/N\n",
    "        \n",
    "    #matriz de unos\n",
    "    unos = MatrizRala(N,1)\n",
    "    for i in range(N):\n",
    "        unos[i,0] = 1\n",
    "    \n",
    "    diff_abs = []\n",
    "    contador = 0    \n",
    "    diff = 1\n",
    "    parte_div = (1 - d) / N\n",
    "    dWD = d * W @ D\n",
    "    while diff > epsilon:\n",
    "        if contador != 0:\n",
    "            p_t = p_t_mas1.__copy__()\n",
    "        \n",
    "        #caculos intermedios\n",
    "        dWDP_t = dWD @ p_t\n",
    "        p_t_mas1 = parte_div * unos + dWDP_t\n",
    "        \n",
    "        #calcular la diferencia con p* osea seria entre p* o p_t\n",
    "        diff = calcular_diferencia_entre_vectores(p_t_mas1,p_t)\n",
    "        diff_abs.append(diff)\n",
    "        contador +=1 \n",
    "   \n",
    "    \n",
    "    return contador, diff_abs\n",
    "    "
   ]
  },
  {
   "cell_type": "markdown",
   "metadata": {},
   "source": [
    "Generar las matrices $\\mathbf{W}$ y $\\mathbf{D}$ a partir de la tabla citas.csv. Utilizar matrices ralas."
   ]
  },
  {
   "cell_type": "code",
   "execution_count": 18,
   "metadata": {},
   "outputs": [
    {
     "name": "stdout",
     "output_type": "stream",
     "text": [
      "N: = 31\n",
      "MatrizRala([ \n",
      "    [ 0  0  1  0  0  0  1  0  1  0  0  0  0  0  0  0  0  0  0  0  0  0  0  0  0  0  0  0  0  0  0  ]\n",
      "    [ 1  0  0  0  0  0  0  0  0  0  0  0  0  0  0  0  0  0  0  0  0  0  0  0  0  0  0  0  0  0  0  ]\n",
      "    [ 0  1  0  0  0  0  0  0  0  1  0  0  0  0  0  0  1  0  0  0  0  0  0  0  0  0  0  0  0  0  0  ]\n",
      "    [ 1  0  0  0  0  0  0  0  0  1  0  0  0  0  0  0  0  0  0  0  0  0  0  0  0  0  0  0  0  0  0  ]\n",
      "    [ 1  0  0  1  0  0  0  0  0  0  0  0  0  0  0  1  0  0  0  1  0  0  0  0  0  0  0  0  0  0  0  ]\n",
      "    [ 0  0  0  1  0  0  1  0  0  0  0  0  1  0  0  0  0  0  0  0  0  0  0  0  0  0  0  0  0  0  0  ]\n",
      "    [ 1  0  0  1  0  1  0  0  0  1  0  0  0  0  0  0  0  0  0  0  0  0  0  0  0  0  0  0  0  0  0  ]\n",
      "    [ 0  0  0  0  0  0  0  0  0  1  0  0  0  0  0  0  0  0  0  1  0  0  0  0  0  0  0  0  0  0  0  ]\n",
      "    [ 0  1  0  1  0  0  0  0  0  0  0  0  0  0  0  0  0  0  0  0  0  0  0  0  0  0  0  0  0  0  0  ]\n",
      "    [ 0  1  0  0  0  0  0  0  0  0  0  0  0  0  0  0  0  0  0  0  0  0  0  0  0  0  0  0  0  0  0  ]\n",
      "    [ 0  0  0  0  0  0  0  0  0  0  0  0  0  0  0  0  0  0  0  0  0  0  0  0  0  0  0  0  0  0  0  ]\n",
      "    [ 0  0  0  0  0  0  0  0  0  0  0  0  0  0  0  0  0  0  0  0  0  0  0  0  0  0  0  0  0  0  0  ]\n",
      "    [ 0  0  0  0  0  0  0  0  0  0  0  0  0  0  0  0  0  0  0  0  0  0  0  0  0  0  0  0  0  0  0  ]\n",
      "    [ 0  0  0  0  0  0  0  0  0  0  0  0  0  0  0  0  0  0  0  0  0  0  0  0  0  0  0  0  0  0  0  ]\n",
      "    [ 0  0  0  0  0  0  0  0  0  0  0  0  0  0  0  0  0  0  0  0  0  0  0  0  0  0  0  0  0  0  0  ]\n",
      "    [ 0  0  0  1  0  0  0  0  0  0  0  0  0  0  0  0  0  0  0  0  0  0  0  0  0  0  0  0  0  0  0  ]\n",
      "    [ 0  0  0  0  0  0  0  0  0  0  0  1  0  0  0  0  0  0  0  0  0  0  0  0  0  0  0  0  0  0  0  ]\n",
      "    [ 0  0  0  0  0  0  0  0  0  0  0  0  0  0  0  0  0  0  0  0  0  0  0  0  0  0  0  0  0  0  0  ]\n",
      "    [ 0  0  0  0  0  1  0  0  0  0  0  0  0  0  1  0  0  0  0  0  0  0  0  0  0  0  0  0  0  0  0  ]\n",
      "    [ 0  0  0  0  0  0  0  0  0  0  0  0  0  0  0  0  0  0  0  0  0  0  0  0  0  0  0  0  0  0  0  ]\n",
      "    [ 0  0  0  0  0  0  0  0  0  0  0  0  0  0  0  0  0  0  0  0  0  0  0  0  0  0  0  0  0  0  0  ]\n",
      "    [ 0  0  0  0  0  0  0  0  0  0  0  0  0  0  0  0  0  0  0  0  0  0  0  0  0  0  0  0  0  0  0  ]\n",
      "    [ 0  0  0  0  0  0  0  0  0  0  0  0  0  0  0  0  0  0  0  0  0  0  0  0  0  0  0  0  0  0  0  ]\n",
      "    [ 0  0  0  0  0  0  0  0  0  0  0  0  0  0  0  0  0  0  0  0  0  0  0  0  0  0  0  0  0  0  0  ]\n",
      "    [ 0  0  0  0  0  0  0  0  0  0  0  0  0  0  0  0  0  0  0  0  0  0  0  0  0  0  0  0  0  0  0  ]\n",
      "    [ 0  0  0  0  0  0  0  0  0  0  0  0  0  0  0  0  0  0  0  0  0  0  0  0  0  0  0  0  0  0  0  ]\n",
      "    [ 0  0  0  0  0  0  0  0  0  0  0  0  0  0  0  0  0  0  0  0  0  0  0  0  0  0  0  0  0  0  0  ]\n",
      "    [ 0  0  0  0  0  0  0  0  0  0  0  0  0  0  0  0  0  0  0  0  0  0  0  0  0  0  0  0  0  0  0  ]\n",
      "    [ 0  0  0  0  0  0  0  0  0  0  0  0  0  0  0  0  0  0  0  0  0  0  0  0  0  0  0  0  0  0  0  ]\n",
      "    [ 0  0  0  0  0  0  0  0  0  0  0  0  0  0  0  0  0  0  0  0  0  0  0  0  0  0  0  0  0  0  0  ]\n",
      "    [ 0  0  0  0  0  0  0  0  0  0  0  0  0  0  0  0  0  0  0  0  0  0  0  0  0  0  0  0  0  0  0  ]\n",
      "])\n"
     ]
    }
   ],
   "source": [
    "citas = 'papers/citas.csv'\n",
    "#data acortada \n",
    "citas2 = 'papers/citas2.csv'\n",
    "\n",
    "# W:MatrizRala = generarW(citas2)\n",
    "W:MatrizRala = MatrizRala.getW(citas2)\n",
    "D:MatrizRala = W.getD()\n",
    "print(W)\n",
    "# print(D)\n",
    "\n"
   ]
  },
  {
   "cell_type": "markdown",
   "metadata": {},
   "source": []
  },
  {
   "cell_type": "code",
   "execution_count": 12,
   "metadata": {},
   "outputs": [],
   "source": [
    "##no etnendi si esto es necesario\n",
    "\n",
    "d = 0.85\n",
    "\n",
    "p_star = generarP_star(W,D,d)\n",
    "\n",
    "#no sabrias como determinar si esto esta bien\n",
    "#print(p_star) <-guido: En teoria el metodo gauss y el iterativo llevan al mismo resultado -> si dan igual esta todo bien"
   ]
  },
  {
   "cell_type": "markdown",
   "metadata": {},
   "source": [
    "Debido al tamaño del conjunto de datos, no podemos resolver explıcitamente usando Gauss-Jordan el sistema. Utilizando d = 0,85 y asumiendo una distribucion equiprobable para el tiempo 1, computar pt hasta que la serie converja. Es decir, que la diferencia $∥p_{t+1} − p_{t}∥$ sea menor a cierto $ϵ > 0$."
   ]
  },
  {
   "cell_type": "code",
   "execution_count": 13,
   "metadata": {},
   "outputs": [
    {
     "data": {
      "image/png": "[encoded data removed]",
      "text/plain": [
       "<Figure size 640x480 with 1 Axes>"
      ]
     },
     "metadata": {},
     "output_type": "display_data"
    }
   ],
   "source": [
    "t, diffs = convergencia(d,W,D)\n",
    "\n",
    "build_graph(t,diffs)"
   ]
  },
  {
   "cell_type": "markdown",
   "metadata": {},
   "source": [
    "Armar la lista de los 10 papers con mayor impacto. Comparar los resultados con aquellos obtenidos\n",
    "utilizando unicamente la cantidad de citas. ¿Que conclusiones se pueden sacar?, ¿Que algoritmo parece\n",
    "dar resultados mas satisfactorios?"
   ]
  },
  {
   "cell_type": "code",
   "execution_count": 14,
   "metadata": {},
   "outputs": [
    {
     "name": "stdout",
     "output_type": "stream",
     "text": [
      "['A Heterogeneous System for Real-Time Detection with AdaBoost', 'A novel conformal jigsaw EBG structure design', 'A source-seeking strategy for an autonomous underwater vehicle via on-line field estimation', 'Social and ethical behavior in the internet of things', 'Prediction of consensus binding mode geometries for related chemical series of positive allosteric modulators of adenosine and muscarinic acetylcholine receptors', 'Data-Driven Relevance Judgments for Ranking Evaluation.', 'Studying Linguistic Changes over 200 Years of Newspapers through Resilient Words Analysis', 'Small secret exponent attacks on RSA with unbalanced prime factors', 'Automatic Container Code Recognition via Spatial Transformer Networks and Connected Component Region Proposals', 'Effective solution for a medical tourism aggregative system using the data mining approach', 'Modeling Physical Structure as Additional Constraints for Stereoscopic Optical See-Through Head-Mounted Display Calibration']\n"
     ]
    }
   ],
   "source": [
    "# los 10 papers con mas influencia seria los que en el vecto r de probabilidades tienen la probabilidad mas alta ?\n",
    "# sacar la posicion del vector de probabilidades \n",
    "# ir a la listaa de id con la posicion sacar el id y encontrarlo en el csv \n",
    "# sino directmaente ir al csv y buscar la posicion esa y sacar el nombre o la fila completa y guardar eso tipo saber cual es el numero 1 2 3 4 ... 10\n",
    "# recorrer W y fijarte cual es la que tiene mas cantidad de citas , sacar la posicion de esas (modificar la funcion que crea D)\n",
    "papers = 'papers/papers.csv'\n",
    "TOP_PAPAERS = 10\n",
    "IDS,nombres = generarIDs(papers)\n",
    "print(nombres[:TOP_PAPAERS+1])"
   ]
  }
 ],
 "metadata": {
  "kernelspec": {
   "display_name": "base",
   "language": "python",
   "name": "python3"
  },
  "language_info": {
   "codemirror_mode": {
    "name": "ipython",
    "version": 3
   },
   "file_extension": ".py",
   "mimetype": "text/x-python",
   "name": "python",
   "nbconvert_exporter": "python",
   "pygments_lexer": "ipython3",
   "version": "3.11.5"
  },
  "vscode": {
   "interpreter": {
    "hash": "588a077454552c0b608c7a75f739e0012bc0a6317cbb2228f1831255df17ce82"
   }
  }
 },
 "nbformat": 4,
 "nbformat_minor": 2
}
