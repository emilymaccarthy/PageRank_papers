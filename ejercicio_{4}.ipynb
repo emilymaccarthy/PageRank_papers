{
 "cells": [
  {
   "attachments": {},
   "cell_type": "markdown",
   "metadata": {},
   "source": [
    "# Imports"
   ]
  },
  {
   "cell_type": "code",
   "execution_count": 31,
   "metadata": {},
   "outputs": [],
   "source": [
    "import csv \n",
    "from matricesRalas import *\n",
    "import matplotlib.pyplot as plt\n"
   ]
  },
  {
   "cell_type": "markdown",
   "metadata": {},
   "source": [
    "### Auxiliares"
   ]
  },
  {
   "cell_type": "markdown",
   "metadata": {},
   "source": [
    "- Calcular diferencia entre vectores(A:MatrizRala, B:MatrizRala)\n",
    "\n",
    "- Build graph(rangex:int, yvalues:List)\n",
    "\n",
    "- Generar identidad(m:int)\n",
    "\n",
    "- Generar inversa(A:MatrizRala)\n",
    "\n",
    "- Generar W(citas:csvfile)\n",
    "\n",
    "- Generar D(W:MatrizRala)\n",
    "\n",
    "- Generar citas(papers:csvfile)\n",
    "\n",
    "- Genrar p_star(W:MatrizRala,D:MatrizRala,d:int)\n",
    "\n",
    "- Convergencia(d:int,W:MatrizRala,D:MatrizRala)"
   ]
  },
  {
   "cell_type": "code",
   "execution_count": 32,
   "metadata": {},
   "outputs": [],
   "source": [
    "def build_graph(rangex:int, y_axis):\n",
    "    # Graficar la diferencia absoluta vs. t\n",
    "    plt.figure()\n",
    "    plt.plot(range(rangex), y_axis, label='Diferencia Absoluta')\n",
    "    plt.xlabel('Iteraciones (t)')\n",
    "    plt.ylabel('Diferencia Absoluta')\n",
    "    plt.title('Convergencia del Método Iterativo')\n",
    "    plt.legend()\n",
    "    plt.grid(True)\n",
    "    plt.show() "
   ]
  },
  {
   "cell_type": "code",
   "execution_count": 33,
   "metadata": {},
   "outputs": [],
   "source": [
    "def generarW(citas):\n",
    "    #tengo que tener agarrar la primer columna entera de papers csv \n",
    "    #cada posicion me da el nuumero del paper = paper + 1\n",
    "    #ahora tengo que linkear cada con citas csv para crear la matriz\n",
    "    #pj cita a pi id1 cita a id2 => W{id2,id1} =  1\n",
    "    #1. crear matriz rala con dimension numero max de citas.csv m y n el mismo numero\n",
    "    #2. recorrer citas csv por cada row ponerle set item (id2,id1) v=1\n",
    "    \n",
    "    #despues seria sobre len(ids)\n",
    "    W = MatrizRala(20,20)  \n",
    "          \n",
    "    with open(citas, newline='') as csvfile:\n",
    "        reader = csv.reader(csvfile)\n",
    "        next(reader) #skipping the header\n",
    "        for row in reader:\n",
    "            #no existe el 0 en el papaer numero 1 2 3 4 5 etc\n",
    "            id2 = int(row[1])-1\n",
    "            id1 = int(row[0])-1\n",
    "            W.__setitem__((id2,id1),1)\n",
    "            \n",
    "    return W\n",
    "            "
   ]
  },
  {
   "cell_type": "code",
   "execution_count": 34,
   "metadata": {},
   "outputs": [],
   "source": [
    "def generarD(W:MatrizRala):\n",
    "    resultado = MatrizRala(W.shape[0],W.shape[1])\n",
    "    \n",
    "    for i in range(W.shape[0]):\n",
    "        cantidad_1s = 0\n",
    "        for j in range(W.shape[0]):\n",
    "            if W[i,j] == 1:\n",
    "                cantidad_1s += 1\n",
    "        if cantidad_1s != 0:\n",
    "            resultado[i,i] = 1/cantidad_1s\n",
    "        \n",
    "    return resultado"
   ]
  },
  {
   "cell_type": "code",
   "execution_count": 35,
   "metadata": {},
   "outputs": [],
   "source": [
    "#ids de papers \n",
    "def generarIDs(paper):\n",
    "    ids = []\n",
    "    nombres = []\n",
    "    \n",
    "    with open(paper, newline='',encoding='utf-8') as csvfile:\n",
    "        reader = csv.reader(csvfile)\n",
    "        next(reader)\n",
    "        for row in reader:\n",
    "            ids.append(row[0])\n",
    "            nombres.append(row[1])\n",
    "            # cada posicion de ids nos dice la citacion que vamos a hacer en W\n",
    "    \n",
    "    return ids,nombres"
   ]
  },
  {
   "cell_type": "code",
   "execution_count": 36,
   "metadata": {},
   "outputs": [],
   "source": [
    "def convergencia(d,W,D):\n",
    "    \n",
    "    epsilon = 0.0000000001\n",
    "    \n",
    "    N = W.shape[0]\n",
    "    \n",
    "    #distribucion equiprobable \n",
    "    p_t = MatrizRala.getVectorOne(N) * (1/ N)\n",
    "        \n",
    "    #matriz de unos\n",
    "    unos = MatrizRala.getVectorOne(N)\n",
    "    \n",
    "    diff_abs = []\n",
    "    contador = 0    \n",
    "    diff = 1\n",
    "    parte_div = (1 - d) / N\n",
    "    dWD = d * W @ D\n",
    "\n",
    "    while diff > epsilon:\n",
    "        if contador != 0:\n",
    "            p_t = p_t_mas1.__copy__()\n",
    "        \n",
    "        #caculos intermedios\n",
    "        dWDP_t = dWD @ p_t\n",
    "        p_t_mas1 = parte_div * unos + dWDP_t\n",
    "        \n",
    "        #calcular la diferencia con p* osea seria entre p* o p_t\n",
    "        diff = MatrizRala.diffVectors(p_t_mas1,p_t) \n",
    "        diff_abs.append(diff)\n",
    "        contador +=1 \n",
    "   \n",
    "    \n",
    "    return contador, diff_abs, p_t_mas1\n",
    "    "
   ]
  },
  {
   "cell_type": "markdown",
   "metadata": {},
   "source": [
    "Generar las matrices $\\mathbf{W}$ y $\\mathbf{D}$ a partir de la tabla citas.csv. Utilizar matrices ralas."
   ]
  },
  {
   "cell_type": "code",
   "execution_count": 37,
   "metadata": {},
   "outputs": [
    {
     "name": "stdout",
     "output_type": "stream",
     "text": [
      "N: = 31\n",
      "MatrizRala([ \n",
      "    [ 0  0  1  0  0  0  1  0  1  0  0  0  0  0  0  0  0  0  0  0  0  0  0  0  0  0  0  0  0  0  0  ]\n",
      "    [ 1  0  0  0  0  0  0  0  0  0  0  0  0  0  0  0  0  0  0  0  0  0  0  0  0  0  0  0  0  0  0  ]\n",
      "    [ 0  1  0  0  0  0  0  0  0  1  0  0  0  0  0  0  1  0  0  0  0  0  0  0  0  0  0  0  0  0  0  ]\n",
      "    [ 1  0  0  0  0  0  0  0  0  1  0  0  0  0  0  0  0  0  0  0  0  0  0  0  0  0  0  0  0  0  0  ]\n",
      "    [ 1  0  0  1  0  0  0  0  0  0  0  0  0  0  0  1  0  0  0  1  0  0  0  0  0  0  0  0  0  0  0  ]\n",
      "    [ 0  0  0  1  0  0  1  0  0  0  0  0  1  0  0  0  0  0  0  0  0  0  0  0  0  0  0  0  0  0  0  ]\n",
      "    [ 1  0  0  1  0  1  0  0  0  1  0  0  0  0  0  0  0  0  0  0  0  0  0  0  0  0  0  0  0  0  0  ]\n",
      "    [ 0  0  0  0  0  0  0  0  0  1  0  0  0  0  0  0  0  0  0  1  0  0  0  0  0  0  0  0  0  0  0  ]\n",
      "    [ 0  1  0  1  0  0  0  0  0  0  0  0  0  0  0  0  0  0  0  0  0  0  0  0  0  0  0  0  0  0  0  ]\n",
      "    [ 0  1  0  0  0  0  0  0  0  0  0  0  0  0  0  0  0  0  0  0  0  0  0  0  0  0  0  0  0  0  0  ]\n",
      "    [ 0  0  0  0  0  0  0  0  0  0  0  0  0  0  0  0  0  0  0  0  0  0  0  0  0  0  0  0  0  0  0  ]\n",
      "    [ 0  0  0  0  0  0  0  0  0  0  0  0  0  0  0  0  0  0  0  0  0  0  0  0  0  0  0  0  0  0  0  ]\n",
      "    [ 0  0  0  0  0  0  0  0  0  0  0  0  0  0  0  0  0  0  0  0  0  0  0  0  0  0  0  0  0  0  0  ]\n",
      "    [ 0  0  0  0  0  0  0  0  0  0  0  0  0  0  0  0  0  0  0  0  0  0  0  0  0  0  0  0  0  0  0  ]\n",
      "    [ 0  0  0  0  0  0  0  0  0  0  0  0  0  0  0  0  0  0  0  0  0  0  0  0  0  0  0  0  0  0  0  ]\n",
      "    [ 0  0  0  1  0  0  0  0  0  0  0  0  0  0  0  0  0  0  0  0  0  0  0  0  0  0  0  0  0  0  0  ]\n",
      "    [ 0  0  0  0  0  0  0  0  0  0  0  1  0  0  0  0  0  0  0  0  0  0  0  0  0  0  0  0  0  0  0  ]\n",
      "    [ 0  0  0  0  0  0  0  0  0  0  0  0  0  0  0  0  0  0  0  0  0  0  0  0  0  0  0  0  0  0  0  ]\n",
      "    [ 0  0  0  0  0  1  0  0  0  0  0  0  0  0  1  0  0  0  0  0  0  0  0  0  0  0  0  0  0  0  0  ]\n",
      "    [ 0  0  0  0  0  0  0  0  0  0  0  0  0  0  0  0  0  0  0  0  0  0  0  0  0  0  0  0  0  0  0  ]\n",
      "    [ 0  0  0  0  0  0  0  0  0  0  0  0  0  0  0  0  0  0  0  0  0  0  0  0  0  0  0  0  0  0  0  ]\n",
      "    [ 0  0  0  0  0  0  0  0  0  0  0  0  0  0  0  0  0  0  0  0  0  0  0  0  0  0  0  0  0  0  0  ]\n",
      "    [ 0  0  0  0  0  0  0  0  0  0  0  0  0  0  0  0  0  0  0  0  0  0  0  0  0  0  0  0  0  0  0  ]\n",
      "    [ 0  0  0  0  0  0  0  0  0  0  0  0  0  0  0  0  0  0  0  0  0  0  0  0  0  0  0  0  0  0  0  ]\n",
      "    [ 0  0  0  0  0  0  0  0  0  0  0  0  0  0  0  0  0  0  0  0  0  0  0  0  0  0  0  0  0  0  0  ]\n",
      "    [ 0  0  0  0  0  0  0  0  0  0  0  0  0  0  0  0  0  0  0  0  0  0  0  0  0  0  0  0  0  0  0  ]\n",
      "    [ 0  0  0  0  0  0  0  0  0  0  0  0  0  0  0  0  0  0  0  0  0  0  0  0  0  0  0  0  0  0  0  ]\n",
      "    [ 0  0  0  0  0  0  0  0  0  0  0  0  0  0  0  0  0  0  0  0  0  0  0  0  0  0  0  0  0  0  0  ]\n",
      "    [ 0  0  0  0  0  0  0  0  0  0  0  0  0  0  0  0  0  0  0  0  0  0  0  0  0  0  0  0  0  0  0  ]\n",
      "    [ 0  0  0  0  0  0  0  0  0  0  0  0  0  0  0  0  0  0  0  0  0  0  0  0  0  0  0  0  0  0  0  ]\n",
      "    [ 0  0  0  0  0  0  0  0  0  0  0  0  0  0  0  0  0  0  0  0  0  0  0  0  0  0  0  0  0  0  0  ]\n",
      "])\n"
     ]
    }
   ],
   "source": [
    "citas = 'papers/citas.csv'\n",
    "#data acortada \n",
    "citas2 = 'papers/citas2.csv'\n",
    "\n",
    "W:MatrizRala = MatrizRala.getW(citas2)\n",
    "D:MatrizRala = W.getD()\n",
    "print(W)\n",
    "# print(D)\n",
    "\n"
   ]
  },
  {
   "cell_type": "markdown",
   "metadata": {},
   "source": [
    "Debido al tamaño del conjunto de datos, no podemos resolver explıcitamente usando Gauss-Jordan el sistema. Utilizando d = 0,85 y asumiendo una distribucion equiprobable para el tiempo 1, computar pt hasta que la serie converja. Es decir, que la diferencia $∥p_{t+1} − p_{t}∥$ sea menor a cierto $ϵ > 0$."
   ]
  },
  {
   "cell_type": "code",
   "execution_count": 38,
   "metadata": {},
   "outputs": [
    {
     "data": {
      "image/png": "[encoded data removed]",
      "text/plain": [
       "<Figure size 640x480 with 1 Axes>"
      ]
     },
     "metadata": {},
     "output_type": "display_data"
    }
   ],
   "source": [
    "d = 0.85\n",
    "t, diffs,p_sol = convergencia(d,W,D)\n",
    "\n",
    "\n",
    "\n",
    "build_graph(t,diffs)"
   ]
  },
  {
   "cell_type": "markdown",
   "metadata": {},
   "source": [
    "Armar la lista de los 10 papers con mayor impacto. Comparar los resultados con aquellos obtenidos\n",
    "utilizando unicamente la cantidad de citas. ¿Que conclusiones se pueden sacar?, ¿Que algoritmo parece\n",
    "dar resultados mas satisfactorios?"
   ]
  },
  {
   "cell_type": "code",
   "execution_count": 42,
   "metadata": {},
   "outputs": [
    {
     "name": "stdout",
     "output_type": "stream",
     "text": [
      "[[ 6]\n",
      " [ 4]\n",
      " [ 0]\n",
      " [ 2]\n",
      " [ 8]\n",
      " [ 3]\n",
      " [ 5]\n",
      " [ 7]\n",
      " [ 9]\n",
      " [15]\n",
      " [ 1]\n",
      " [18]\n",
      " [20]\n",
      " [21]\n",
      " [28]\n",
      " [27]\n",
      " [26]\n",
      " [25]\n",
      " [24]\n",
      " [23]\n",
      " [22]\n",
      " [10]\n",
      " [19]\n",
      " [11]\n",
      " [12]\n",
      " [13]\n",
      " [14]\n",
      " [29]\n",
      " [16]\n",
      " [17]\n",
      " [30]]\n"
     ]
    }
   ],
   "source": [
    "# los 10 papers con mas influencia seria los que en el vecto r de probabilidades tienen la probabilidad mas alta ?\n",
    "# sacar la posicion del vector de probabilidades \n",
    "# ir a la listaa de id con la posicion sacar el id y encontrarlo en el csv \n",
    "# sino directmaente ir al csv y buscar la posicion esa y sacar el nombre o la fila completa y guardar eso tipo saber cual es el numero 1 2 3 4 ... 10\n",
    "# recorrer W y fijarte cual es la que tiene mas cantidad de citas , sacar la posicion de esas (modificar la funcion que crea D)\n",
    "# papers = 'papers/papers.csv'\n",
    "# TOP_PAPAERS = 10\n",
    "# IDS,nombres = generarIDs(papers)\n",
    "# print(nombres[:TOP_PAPAERS+1])\n",
    "\n",
    "####\n",
    "\n",
    "p_solNumpy = p_sol.toNumpy()\n",
    "# ordenar de mayor a menor\n",
    "argSort = np.argsort(p_solNumpy, axis=0)[::-1]# ordena de mayor a menor\n",
    "p_solNumpy = np.sort(p_solNumpy, axis=0)[::-1]\n",
    "\n",
    "# print(p_solNumpy[:10])\n",
    "# print(type(p_solNumpy))\n",
    "\n",
    "# print(np.sum(p_solNumpy))\n",
    "\n",
    "print(argSort)\n",
    "\n",
    "\n",
    "# vectorRala = MatrizRala.fromNumpy(vectorNumpy)\n",
    "# print(vectorRala)\n"
   ]
  },
  {
   "cell_type": "code",
   "execution_count": null,
   "metadata": {},
   "outputs": [],
   "source": [
    "# argSort\n",
    "# with open(dataPath,newline='') as csvfile:\n",
    "#     reader = csv.reader(csvfile)\n",
    "#     next(reader)\n",
    "        \n",
    "#     N = sum(1 for row in reader)\n",
    "#     csvfile.close()"
   ]
  }
 ],
 "metadata": {
  "kernelspec": {
   "display_name": "base",
   "language": "python",
   "name": "python3"
  },
  "language_info": {
   "codemirror_mode": {
    "name": "ipython",
    "version": 3
   },
   "file_extension": ".py",
   "mimetype": "text/x-python",
   "name": "python",
   "nbconvert_exporter": "python",
   "pygments_lexer": "ipython3",
   "version": "3.11.5"
  },
  "vscode": {
   "interpreter": {
    "hash": "588a077454552c0b608c7a75f739e0012bc0a6317cbb2228f1831255df17ce82"
   }
  }
 },
 "nbformat": 4,
 "nbformat_minor": 2
}
