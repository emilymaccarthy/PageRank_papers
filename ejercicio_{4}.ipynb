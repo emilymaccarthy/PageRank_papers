{
 "cells": [
  {
   "attachments": {},
   "cell_type": "markdown",
   "metadata": {},
   "source": [
    "# Imports"
   ]
  },
  {
   "cell_type": "code",
   "execution_count": 3,
   "metadata": {},
   "outputs": [],
   "source": [
    "import csv \n",
    "from matricesRalas import *\n",
    "import matplotlib.pyplot as plt\n"
   ]
  },
  {
   "cell_type": "markdown",
   "metadata": {},
   "source": [
    "### Funciones principales"
   ]
  },
  {
   "cell_type": "markdown",
   "metadata": {},
   "source": [
    "- Build graph(rangex:int, yvalues:List)\n",
    "\n",
    "- Generar W(citas:csvfile)\n",
    "\n",
    "- Generar D(W:MatrizRala)\n",
    "\n",
    "- Generar citas(papers:csvfile)\n",
    "\n",
    "- Convergencia(d:int,W:MatrizRala,D:MatrizRala)"
   ]
  },
  {
   "cell_type": "code",
   "execution_count": 4,
   "metadata": {},
   "outputs": [],
   "source": [
    "def build_graph(rangex:int, y_axis):\n",
    "    # Graficar la diferencia absoluta vs. t\n",
    "    plt.figure()\n",
    "    plt.plot(range(rangex), y_axis, label='Diferencia Absoluta')\n",
    "    plt.xlabel('Iteraciones (t)')\n",
    "    plt.ylabel('Diferencia Absoluta')\n",
    "    plt.title('Convergencia del Método Iterativo')\n",
    "    plt.legend()\n",
    "    plt.grid(True)\n",
    "    plt.show() "
   ]
  },
  {
   "cell_type": "code",
   "execution_count": 5,
   "metadata": {},
   "outputs": [],
   "source": [
    "def generarW(citas):\n",
    "    #tengo que tener agarrar la primer columna entera de papers csv \n",
    "    #cada posicion me da el nuumero del paper = paper + 1\n",
    "    #ahora tengo que linkear cada con citas csv para crear la matriz\n",
    "    #pj cita a pi id1 cita a id2 => W{id2,id1} =  1\n",
    "    #1. crear matriz rala con dimension numero max de citas.csv m y n el mismo numero\n",
    "    #2. recorrer citas csv por cada row ponerle set item (id2,id1) v=1\n",
    "    \n",
    "    #despues seria sobre len(ids)\n",
    "    W = MatrizRala(20,20)  \n",
    "          \n",
    "    with open(citas, newline='') as csvfile:\n",
    "        reader = csv.reader(csvfile)\n",
    "        next(reader) #skipping the header\n",
    "        for row in reader:\n",
    "            #no existe el 0 en el papaer numero 1 2 3 4 5 etc\n",
    "            id2 = int(row[1])-1\n",
    "            id1 = int(row[0])-1\n",
    "            W.__setitem__((id2,id1),1)\n",
    "            \n",
    "    return W\n",
    "            "
   ]
  },
  {
   "cell_type": "code",
   "execution_count": 6,
   "metadata": {},
   "outputs": [],
   "source": [
    "def generarD(W:MatrizRala):\n",
    "    resultado = MatrizRala(W.shape[0],W.shape[1])\n",
    "    \n",
    "    for i in range(W.shape[0]):\n",
    "        cantidad_1s = 0\n",
    "        for j in range(W.shape[0]):\n",
    "            if W[i,j] == 1:\n",
    "                cantidad_1s += 1\n",
    "        if cantidad_1s != 0:\n",
    "            resultado[i,i] = 1/cantidad_1s\n",
    "        \n",
    "    return resultado"
   ]
  },
  {
   "cell_type": "code",
   "execution_count": 7,
   "metadata": {},
   "outputs": [],
   "source": [
    "#ids de papers \n",
    "def generarIDs(paper):\n",
    "    ids = []\n",
    "    nombres = []\n",
    "    \n",
    "    with open(paper, newline='',encoding='utf-8') as csvfile:\n",
    "        reader = csv.reader(csvfile)\n",
    "        next(reader)\n",
    "        for row in reader:\n",
    "            ids.append(row[0])\n",
    "            nombres.append(row[1])\n",
    "            # cada posicion de ids nos dice la citacion que vamos a hacer en W\n",
    "    \n",
    "    return ids,nombres"
   ]
  },
  {
   "cell_type": "code",
   "execution_count": 8,
   "metadata": {},
   "outputs": [],
   "source": [
    "def convergencia(d,W,D):\n",
    "    \n",
    "    epsilon = 0.0001\n",
    "    \n",
    "    N = W.shape[0]\n",
    "    \n",
    "    #distribucion equiprobable \n",
    "    p_t = MatrizRala.getVectorOne(N) * (1/ N)\n",
    "        \n",
    "    #matriz de unos\n",
    "    unos = MatrizRala.getVectorOne(N)\n",
    "    \n",
    "    diff_abs = []\n",
    "    contador = 0    \n",
    "    diff = 1\n",
    "    parte_div = (1 - d) / N\n",
    "    dWD = d * W @ D\n",
    "\n",
    "    while diff > epsilon:\n",
    "        \n",
    "        #caculos intermedios\n",
    "        dWDP_t = dWD @ p_t\n",
    "        p_t_mas1 = parte_div * unos + dWDP_t\n",
    "        p_t = p_t_mas1.__copy__()\n",
    "        \n",
    "        #calcular la diferencia con p* osea seria entre p* o p_t\n",
    "        diff = MatrizRala.diffVectors(p_t_mas1,p_t) \n",
    "        diff_abs.append(diff)\n",
    "        contador +=1 \n",
    "   \n",
    "    \n",
    "    return contador, diff_abs, p_t_mas1\n",
    "    "
   ]
  },
  {
   "cell_type": "markdown",
   "metadata": {},
   "source": [
    "Generar las matrices $\\mathbf{W}$ y $\\mathbf{D}$ a partir de la tabla citas.csv. Utilizar matrices ralas."
   ]
  },
  {
   "cell_type": "code",
   "execution_count": 18,
   "metadata": {},
   "outputs": [
    {
     "name": "stdout",
     "output_type": "stream",
     "text": [
      "N: = 629814\n"
     ]
    }
   ],
   "source": [
    "#TIEMPO: \n",
    "papers = 'papers/papers.csv'\n",
    "citas = 'papers/citas.csv'\n",
    "#data acortada \n",
    "citas2 = 'papers/citas2.csv'\n",
    "\n",
    "W:MatrizRala = MatrizRala.getW(papers,citas)\n",
    "\n"
   ]
  },
  {
   "cell_type": "code",
   "execution_count": 19,
   "metadata": {},
   "outputs": [],
   "source": [
    "# TIEMPO: \n",
    "D:MatrizRala = W.getD()\n",
    "# print(W)\n"
   ]
  },
  {
   "cell_type": "markdown",
   "metadata": {},
   "source": [
    "Debido al tamaño del conjunto de datos, no podemos resolver explıcitamente usando Gauss-Jordan el sistema. Utilizando d = 0,85 y asumiendo una distribucion equiprobable para el tiempo 1, computar pt hasta que la serie converja. Es decir, que la diferencia $∥p_{t+1} − p_{t}∥$ sea menor a cierto $ϵ > 0$."
   ]
  },
  {
   "attachments": {},
   "cell_type": "markdown",
   "metadata": {},
   "source": [
    "## Guardamos W y D de forma que no sea necesario correr el codigo nuevamente"
   ]
  },
  {
   "cell_type": "code",
   "execution_count": 11,
   "metadata": {},
   "outputs": [],
   "source": [
    "import pickle\n",
    "\n",
    "GUARDAR = True\n",
    "\n",
    "if(GUARDAR):\n",
    "    # Serializar el objeto\n",
    "    with open('mat_W.pkl', 'wb') as archivo:\n",
    "        pickle.dump(W, archivo)\n",
    "        archivo.close()\n",
    "\n",
    "    # Serializar el objeto\n",
    "    with open('mat_D.pkl', 'wb') as archivo:\n",
    "        pickle.dump(D, archivo)\n",
    "        archivo.close()"
   ]
  },
  {
   "cell_type": "code",
   "execution_count": 12,
   "metadata": {},
   "outputs": [],
   "source": [
    "import pickle\n",
    "\n",
    "RECUPERAR = False\n",
    "\n",
    "if RECUPERAR:\n",
    "\n",
    "    # Deserializar el objeto\n",
    "    W: MatrizRala = None\n",
    "    D: MatrizRala = None\n",
    "    with open('mat_W.pkl', 'rb') as archivo:\n",
    "        W = pickle.load(archivo)\n",
    "        archivo.close()\n",
    "\n",
    "    with open('mat_D.pkl', 'rb') as archivo:\n",
    "        D = pickle.load(archivo)\n",
    "        archivo.close()\n",
    "\n"
   ]
  },
  {
   "cell_type": "code",
   "execution_count": 15,
   "metadata": {},
   "outputs": [
    {
     "ename": "KeyboardInterrupt",
     "evalue": "",
     "output_type": "error",
     "traceback": [
      "\u001b[1;31m---------------------------------------------------------------------------\u001b[0m",
      "\u001b[1;31mKeyboardInterrupt\u001b[0m                         Traceback (most recent call last)",
      "File \u001b[1;32m_zmq.py:141\u001b[0m, in \u001b[0;36mzmq.backend.cython._zmq._check_rc\u001b[1;34m()\u001b[0m\n",
      "\u001b[1;31mKeyboardInterrupt\u001b[0m: "
     ]
    },
    {
     "name": "stderr",
     "output_type": "stream",
     "text": [
      "Exception ignored in: 'zmq.backend.cython._zmq.Frame.__del__'\n",
      "Traceback (most recent call last):\n",
      "  File \"_zmq.py\", line 141, in zmq.backend.cython._zmq._check_rc\n",
      "KeyboardInterrupt: \n"
     ]
    },
    {
     "ename": "KeyboardInterrupt",
     "evalue": "",
     "output_type": "error",
     "traceback": [
      "\u001b[1;31m---------------------------------------------------------------------------\u001b[0m",
      "\u001b[1;31mKeyboardInterrupt\u001b[0m                         Traceback (most recent call last)",
      "Cell \u001b[1;32mIn[15], line 2\u001b[0m\n\u001b[0;32m      1\u001b[0m d \u001b[38;5;241m=\u001b[39m \u001b[38;5;241m0.85\u001b[39m\n\u001b[1;32m----> 2\u001b[0m t, diffs,p_sol \u001b[38;5;241m=\u001b[39m \u001b[43mconvergencia\u001b[49m\u001b[43m(\u001b[49m\u001b[43md\u001b[49m\u001b[43m,\u001b[49m\u001b[43mW\u001b[49m\u001b[43m,\u001b[49m\u001b[43mD\u001b[49m\u001b[43m)\u001b[49m\n",
      "Cell \u001b[1;32mIn[8], line 17\u001b[0m, in \u001b[0;36mconvergencia\u001b[1;34m(d, W, D)\u001b[0m\n\u001b[0;32m     15\u001b[0m diff \u001b[38;5;241m=\u001b[39m \u001b[38;5;241m1\u001b[39m\n\u001b[0;32m     16\u001b[0m parte_div \u001b[38;5;241m=\u001b[39m (\u001b[38;5;241m1\u001b[39m \u001b[38;5;241m-\u001b[39m d) \u001b[38;5;241m/\u001b[39m N\n\u001b[1;32m---> 17\u001b[0m dWD \u001b[38;5;241m=\u001b[39m \u001b[43md\u001b[49m\u001b[43m \u001b[49m\u001b[38;5;241;43m*\u001b[39;49m\u001b[43m \u001b[49m\u001b[43mW\u001b[49m \u001b[38;5;241m@\u001b[39m D\n\u001b[0;32m     19\u001b[0m \u001b[38;5;28;01mwhile\u001b[39;00m diff \u001b[38;5;241m>\u001b[39m epsilon:\n\u001b[0;32m     20\u001b[0m     \n\u001b[0;32m     21\u001b[0m     \u001b[38;5;66;03m#caculos intermedios\u001b[39;00m\n\u001b[0;32m     22\u001b[0m     dWDP_t \u001b[38;5;241m=\u001b[39m dWD \u001b[38;5;241m@\u001b[39m p_t\n",
      "File \u001b[1;32mc:\\Users\\emily\\OneDrive\\Documents\\GitHub\\TP1-MetodosComputacionales\\matricesRalas.py:199\u001b[0m, in \u001b[0;36mMatrizRala.__rmul__\u001b[1;34m(self, k)\u001b[0m\n\u001b[0;32m    197\u001b[0m \u001b[38;5;28;01mdef\u001b[39;00m \u001b[38;5;21m__rmul__\u001b[39m( \u001b[38;5;28mself\u001b[39m, k ):\n\u001b[0;32m    198\u001b[0m     \u001b[38;5;66;03m# Esta funcion implementa el producto escalar-matriz -> k * A\u001b[39;00m\n\u001b[1;32m--> 199\u001b[0m     \u001b[38;5;28;01mreturn\u001b[39;00m \u001b[38;5;28;43mself\u001b[39;49m\u001b[43m \u001b[49m\u001b[38;5;241;43m*\u001b[39;49m\u001b[43m \u001b[49m\u001b[43mk\u001b[49m\n",
      "File \u001b[1;32mc:\\Users\\emily\\OneDrive\\Documents\\GitHub\\TP1-MetodosComputacionales\\matricesRalas.py:189\u001b[0m, in \u001b[0;36mMatrizRala.__mul__\u001b[1;34m(self, k)\u001b[0m\n\u001b[0;32m    187\u001b[0m \u001b[38;5;28;01mfor\u001b[39;00m i \u001b[38;5;129;01min\u001b[39;00m \u001b[38;5;28mrange\u001b[39m(\u001b[38;5;28mself\u001b[39m\u001b[38;5;241m.\u001b[39mshape[\u001b[38;5;241m0\u001b[39m]):\n\u001b[0;32m    188\u001b[0m     \u001b[38;5;28;01mfor\u001b[39;00m j \u001b[38;5;129;01min\u001b[39;00m \u001b[38;5;28mrange\u001b[39m(\u001b[38;5;28mself\u001b[39m\u001b[38;5;241m.\u001b[39mshape[\u001b[38;5;241m1\u001b[39m]):\n\u001b[1;32m--> 189\u001b[0m         valor_actual \u001b[38;5;241m=\u001b[39m \u001b[38;5;28;43mself\u001b[39;49m\u001b[43m[\u001b[49m\u001b[43mi\u001b[49m\u001b[43m,\u001b[49m\u001b[43m \u001b[49m\u001b[43mj\u001b[49m\u001b[43m]\u001b[49m\n\u001b[0;32m    190\u001b[0m         valor_producto \u001b[38;5;241m=\u001b[39m valor_actual \u001b[38;5;241m*\u001b[39m k\n\u001b[0;32m    192\u001b[0m         \u001b[38;5;28;01mif\u001b[39;00m valor_producto \u001b[38;5;241m!=\u001b[39m \u001b[38;5;241m0\u001b[39m:\n",
      "File \u001b[1;32mc:\\Users\\emily\\OneDrive\\Documents\\GitHub\\TP1-MetodosComputacionales\\matricesRalas.py:111\u001b[0m, in \u001b[0;36mMatrizRala.__getitem__\u001b[1;34m(self, Idx)\u001b[0m\n\u001b[0;32m    108\u001b[0m     \u001b[38;5;28mself\u001b[39m\u001b[38;5;241m.\u001b[39mfilas \u001b[38;5;241m=\u001b[39m {}\n\u001b[0;32m    109\u001b[0m     \u001b[38;5;28mself\u001b[39m\u001b[38;5;241m.\u001b[39mshape \u001b[38;5;241m=\u001b[39m (M, N)\n\u001b[1;32m--> 111\u001b[0m \u001b[38;5;28;01mdef\u001b[39;00m \u001b[38;5;21m__getitem__\u001b[39m( \u001b[38;5;28mself\u001b[39m, Idx ):\n\u001b[0;32m    112\u001b[0m     \u001b[38;5;66;03m# Esta funcion implementa la indexacion ( Idx es una tupla (m,n) ) -> A[m,n]\u001b[39;00m\n\u001b[0;32m    113\u001b[0m     \u001b[38;5;66;03m# se indexa a traves de un diccionario la clave de cada fila es su ´ındice y el valor almacenado es la lista enlazada.\u001b[39;00m\n\u001b[0;32m    114\u001b[0m     \n\u001b[0;32m    115\u001b[0m     \u001b[38;5;66;03m# tupla dada por la funcion m= filas y n = columnas\u001b[39;00m\n\u001b[0;32m    116\u001b[0m     m,n \u001b[38;5;241m=\u001b[39m Idx\n\u001b[0;32m    118\u001b[0m     \u001b[38;5;28;01mif\u001b[39;00m m \u001b[38;5;241m>\u001b[39m\u001b[38;5;241m=\u001b[39m \u001b[38;5;28mself\u001b[39m\u001b[38;5;241m.\u001b[39mshape[\u001b[38;5;241m0\u001b[39m] \u001b[38;5;129;01mor\u001b[39;00m n \u001b[38;5;241m>\u001b[39m\u001b[38;5;241m=\u001b[39m \u001b[38;5;28mself\u001b[39m\u001b[38;5;241m.\u001b[39mshape[\u001b[38;5;241m1\u001b[39m]:\n",
      "\u001b[1;31mKeyboardInterrupt\u001b[0m: "
     ]
    }
   ],
   "source": [
    "d = 0.85\n",
    "t, diffs,p_sol = convergencia(d,W,D)\n",
    "\n"
   ]
  },
  {
   "cell_type": "markdown",
   "metadata": {},
   "source": [
    "Armar la lista de los 10 papers con mayor impacto. Comparar los resultados con aquellos obtenidos\n",
    "utilizando unicamente la cantidad de citas. ¿Que conclusiones se pueden sacar?, ¿Que algoritmo parece\n",
    "dar resultados mas satisfactorios?"
   ]
  },
  {
   "cell_type": "code",
   "execution_count": null,
   "metadata": {},
   "outputs": [],
   "source": [
    "# los 10 papers con mas influencia seria los que en el vecto r de probabilidades tienen la probabilidad mas alta ?\n",
    "# sacar la posicion del vector de probabilidades \n",
    "# ir a la listaa de id con la posicion sacar el id y encontrarlo en el csv \n",
    "# sino directmaente ir al csv y buscar la posicion esa y sacar el nombre o la fila completa y guardar eso tipo saber cual es el numero 1 2 3 4 ... 10\n",
    "# recorrer W y fijarte cual es la que tiene mas cantidad de citas , sacar la posicion de esas (modificar la funcion que crea D)\n",
    "# papers = 'papers/papers.csv'\n",
    "# TOP_PAPAERS = 10\n",
    "# IDS,nombres = generarIDs(papers)\n",
    "# print(nombres[:TOP_PAPAERS+1])\n",
    "\n",
    "####\n",
    "    \n",
    "p_solNumpy = p_sol.toNumpy()\n",
    "indices_filas = np.arange(p_solNumpy.shape[0]).reshape((-1, 1))\n",
    "p_solNumpy_con_indices = np.hstack((p_solNumpy, indices_filas))\n",
    "# ordenar de mayor a menor\n",
    "argSort = np.argsort(p_solNumpy_con_indices, axis=0)[::-1]# ordena de mayor a menor\n",
    "p_solNumpy = np.sort(p_solNumpy_con_indices, axis=0)[::-1]\n",
    "\n",
    "# print(p_solNumpy[:10])\n",
    "# print(type(p_solNumpy))\n",
    "\n",
    "# print(np.sum(p_solNumpy))\n",
    "\n",
    "print(argSort)\n",
    "\n",
    "\n",
    "# vectorRala = MatrizRala.fromNumpy(vectorNumpy)\n",
    "# print(vectorRala)\n"
   ]
  },
  {
   "cell_type": "code",
   "execution_count": null,
   "metadata": {},
   "outputs": [],
   "source": [
    "# argSort\n",
    "# with open(dataPath,newline='') as csvfile:\n",
    "#     reader = csv.reader(csvfile)\n",
    "#     next(reader)\n",
    "        \n",
    "#     N = sum(1 for row in reader)\n",
    "#     csvfile.close()"
   ]
  }
 ],
 "metadata": {
  "kernelspec": {
   "display_name": "base",
   "language": "python",
   "name": "python3"
  },
  "language_info": {
   "codemirror_mode": {
    "name": "ipython",
    "version": 3
   },
   "file_extension": ".py",
   "mimetype": "text/x-python",
   "name": "python",
   "nbconvert_exporter": "python",
   "pygments_lexer": "ipython3",
   "version": "3.11.5"
  },
  "vscode": {
   "interpreter": {
    "hash": "588a077454552c0b608c7a75f739e0012bc0a6317cbb2228f1831255df17ce82"
   }
  }
 },
 "nbformat": 4,
 "nbformat_minor": 2
}
